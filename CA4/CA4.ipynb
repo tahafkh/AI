{
 "cells": [
  {
   "cell_type": "markdown",
   "id": "428d0682-2fae-4de8-9196-7e5f02deb581",
   "metadata": {},
   "source": [
    "# AI - CA4 - Machine Learning - Mohamad Taha Fakharian"
   ]
  },
  {
   "cell_type": "markdown",
   "id": "8647b8f2-e6c8-457a-bddf-fd0763d9edf8",
   "metadata": {},
   "source": [
    "## Goal\n",
    "In this assignment, we're going to \n",
    "\n",
    "## Overall approach\n"
   ]
  },
  {
   "cell_type": "code",
   "execution_count": 1,
   "id": "f9f9f0aa-7a24-4435-a856-c54929787aaf",
   "metadata": {},
   "outputs": [],
   "source": [
    "# Libraries for preprocessing\n",
    "import nltk\n",
    "import re\n",
    "\n",
    "# Regular libraries \n",
    "import numpy as np\n",
    "import pandas as pd\n",
    "import matplotlib.pyplot as plt\n",
    "import sklearn as sk"
   ]
  },
  {
   "cell_type": "code",
   "execution_count": 2,
   "id": "b028e9b2-1fd3-41cf-947e-373dbd1d370d",
   "metadata": {},
   "outputs": [],
   "source": [
    "data = pd.read_csv('dataset.csv')"
   ]
  },
  {
   "cell_type": "markdown",
   "id": "2658d346-188d-4cae-a8d8-5b36e52d64c3",
   "metadata": {},
   "source": [
    "# Conclusion\n"
   ]
  }
 ],
 "metadata": {
  "kernelspec": {
   "display_name": "Python 3 (ipykernel)",
   "language": "python",
   "name": "python3"
  },
  "language_info": {
   "codemirror_mode": {
    "name": "ipython",
    "version": 3
   },
   "file_extension": ".py",
   "mimetype": "text/x-python",
   "name": "python",
   "nbconvert_exporter": "python",
   "pygments_lexer": "ipython3",
   "version": "3.7.3"
  }
 },
 "nbformat": 4,
 "nbformat_minor": 5
}
