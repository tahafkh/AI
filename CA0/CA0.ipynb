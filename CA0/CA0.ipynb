{
 "cells": [
  {
   "cell_type": "markdown",
   "id": "db737cb6-7139-4376-9287-db260f99fdca",
   "metadata": {},
   "source": [
    "# AI - CA0 - Mohamad Taha Fakharian"
   ]
  },
  {
   "cell_type": "markdown",
   "id": "6bc582d0-6bc7-44e9-bcec-7982f9d97526",
   "metadata": {},
   "source": [
    "## Goal"
   ]
  },
  {
   "cell_type": "markdown",
   "id": "11d195d0-1d1d-48f0-8f24-bfe480ab0afc",
   "metadata": {},
   "source": [
    "In this assignment, we're going to predict some values in a column of dataframe using  statistical analysis."
   ]
  },
  {
   "cell_type": "markdown",
   "id": "a8c414e1-ef50-4683-97d1-1891a71384e2",
   "metadata": {},
   "source": [
    "## Overall Approach"
   ]
  },
  {
   "cell_type": "markdown",
   "id": "6d095aa1-e5c4-4c32-b6dc-2842dfa1867d",
   "metadata": {},
   "source": [
    "To do this, first we get familiar with the data provided for us using Pandas. We will see some general information about this dataframe and after that, we'll split records to complete and incomplete dataframes, using the values of final columns(NaN or not). We then try to predict the incomplete dataframe using statistical analysis and information from complete dataframe."
   ]
  },
  {
   "cell_type": "code",
   "execution_count": 1,
   "id": "3ec32255-0836-4000-aafb-01fd80cbccb8",
   "metadata": {},
   "outputs": [],
   "source": [
    "# importing necessary libraries\n",
    "import numpy as np\n",
    "import pandas as pd\n",
    "import matplotlib.pyplot as plt"
   ]
  },
  {
   "cell_type": "markdown",
   "id": "709dd2c2-578e-4237-8db6-2e6ce99f1e8e",
   "metadata": {},
   "source": [
    "# Reading data\n",
    "We'll use a dataset for bank term deposit. We'll read the dataset to a dataframe:"
   ]
  },
  {
   "cell_type": "code",
   "execution_count": 2,
   "id": "2ec5c6a6-fa8e-4d39-8c9f-093538134583",
   "metadata": {},
   "outputs": [],
   "source": [
    "bank = pd.read_csv(\"bank_term_deposit.csv\")"
   ]
  },
  {
   "cell_type": "markdown",
   "id": "6dd3b6fa-59ca-45e6-9932-cb67c36b6314",
   "metadata": {},
   "source": [
    "# Examining data\n",
    "Now we use some methods to get some genral information from the dataframe we've read."
   ]
  },
  {
   "cell_type": "code",
   "execution_count": 3,
   "id": "7a3101c1-5de4-4883-a8fa-8556696f055c",
   "metadata": {},
   "outputs": [
    {
     "data": {
      "text/html": [
       "<div>\n",
       "<style scoped>\n",
       "    .dataframe tbody tr th:only-of-type {\n",
       "        vertical-align: middle;\n",
       "    }\n",
       "\n",
       "    .dataframe tbody tr th {\n",
       "        vertical-align: top;\n",
       "    }\n",
       "\n",
       "    .dataframe thead th {\n",
       "        text-align: right;\n",
       "    }\n",
       "</style>\n",
       "<table border=\"1\" class=\"dataframe\">\n",
       "  <thead>\n",
       "    <tr style=\"text-align: right;\">\n",
       "      <th></th>\n",
       "      <th>age</th>\n",
       "      <th>balance</th>\n",
       "      <th>duration</th>\n",
       "      <th>campaign</th>\n",
       "      <th>pdays</th>\n",
       "    </tr>\n",
       "  </thead>\n",
       "  <tbody>\n",
       "    <tr>\n",
       "      <th>count</th>\n",
       "      <td>3984.000000</td>\n",
       "      <td>4164.000000</td>\n",
       "      <td>4388.000000</td>\n",
       "      <td>4521.000000</td>\n",
       "      <td>4521.000000</td>\n",
       "    </tr>\n",
       "    <tr>\n",
       "      <th>mean</th>\n",
       "      <td>41.617470</td>\n",
       "      <td>1136.750240</td>\n",
       "      <td>264.724020</td>\n",
       "      <td>2.793630</td>\n",
       "      <td>39.766645</td>\n",
       "    </tr>\n",
       "    <tr>\n",
       "      <th>std</th>\n",
       "      <td>10.696378</td>\n",
       "      <td>2726.204918</td>\n",
       "      <td>261.057119</td>\n",
       "      <td>3.109807</td>\n",
       "      <td>100.121124</td>\n",
       "    </tr>\n",
       "    <tr>\n",
       "      <th>min</th>\n",
       "      <td>19.000000</td>\n",
       "      <td>-3313.000000</td>\n",
       "      <td>4.000000</td>\n",
       "      <td>1.000000</td>\n",
       "      <td>-1.000000</td>\n",
       "    </tr>\n",
       "    <tr>\n",
       "      <th>25%</th>\n",
       "      <td>32.000000</td>\n",
       "      <td>58.000000</td>\n",
       "      <td>104.000000</td>\n",
       "      <td>1.000000</td>\n",
       "      <td>-1.000000</td>\n",
       "    </tr>\n",
       "    <tr>\n",
       "      <th>50%</th>\n",
       "      <td>40.000000</td>\n",
       "      <td>316.000000</td>\n",
       "      <td>185.500000</td>\n",
       "      <td>2.000000</td>\n",
       "      <td>-1.000000</td>\n",
       "    </tr>\n",
       "    <tr>\n",
       "      <th>75%</th>\n",
       "      <td>49.000000</td>\n",
       "      <td>997.000000</td>\n",
       "      <td>331.000000</td>\n",
       "      <td>3.000000</td>\n",
       "      <td>-1.000000</td>\n",
       "    </tr>\n",
       "    <tr>\n",
       "      <th>max</th>\n",
       "      <td>87.000000</td>\n",
       "      <td>71188.000000</td>\n",
       "      <td>3025.000000</td>\n",
       "      <td>50.000000</td>\n",
       "      <td>871.000000</td>\n",
       "    </tr>\n",
       "  </tbody>\n",
       "</table>\n",
       "</div>"
      ],
      "text/plain": [
       "               age       balance     duration     campaign        pdays\n",
       "count  3984.000000   4164.000000  4388.000000  4521.000000  4521.000000\n",
       "mean     41.617470   1136.750240   264.724020     2.793630    39.766645\n",
       "std      10.696378   2726.204918   261.057119     3.109807   100.121124\n",
       "min      19.000000  -3313.000000     4.000000     1.000000    -1.000000\n",
       "25%      32.000000     58.000000   104.000000     1.000000    -1.000000\n",
       "50%      40.000000    316.000000   185.500000     2.000000    -1.000000\n",
       "75%      49.000000    997.000000   331.000000     3.000000    -1.000000\n",
       "max      87.000000  71188.000000  3025.000000    50.000000   871.000000"
      ]
     },
     "execution_count": 3,
     "metadata": {},
     "output_type": "execute_result"
    }
   ],
   "source": [
    "bank.describe()"
   ]
  },
  {
   "cell_type": "markdown",
   "id": "74dfc46e-d483-49df-a651-0103a0e46c73",
   "metadata": {},
   "source": [
    "As you can see above, by using \"describe\" we can see count, mean, std(standard deviation), min and max and some other descriptive statistics for numerical columns in the dataframe."
   ]
  },
  {
   "cell_type": "code",
   "execution_count": 4,
   "id": "511fde14-eece-4082-803e-07466f3cf470",
   "metadata": {},
   "outputs": [
    {
     "data": {
      "text/html": [
       "<div>\n",
       "<style scoped>\n",
       "    .dataframe tbody tr th:only-of-type {\n",
       "        vertical-align: middle;\n",
       "    }\n",
       "\n",
       "    .dataframe tbody tr th {\n",
       "        vertical-align: top;\n",
       "    }\n",
       "\n",
       "    .dataframe thead th {\n",
       "        text-align: right;\n",
       "    }\n",
       "</style>\n",
       "<table border=\"1\" class=\"dataframe\">\n",
       "  <thead>\n",
       "    <tr style=\"text-align: right;\">\n",
       "      <th></th>\n",
       "      <th>age</th>\n",
       "      <th>job</th>\n",
       "      <th>marital</th>\n",
       "      <th>education</th>\n",
       "      <th>balance</th>\n",
       "      <th>housing</th>\n",
       "      <th>loan</th>\n",
       "      <th>duration</th>\n",
       "      <th>campaign</th>\n",
       "      <th>pdays</th>\n",
       "      <th>poutcome</th>\n",
       "      <th>y</th>\n",
       "    </tr>\n",
       "  </thead>\n",
       "  <tbody>\n",
       "    <tr>\n",
       "      <th>4516</th>\n",
       "      <td>33.0</td>\n",
       "      <td>services</td>\n",
       "      <td>married</td>\n",
       "      <td>secondary</td>\n",
       "      <td>-333.0</td>\n",
       "      <td>yes</td>\n",
       "      <td>no</td>\n",
       "      <td>329.0</td>\n",
       "      <td>5</td>\n",
       "      <td>-1</td>\n",
       "      <td>unknown</td>\n",
       "      <td>no</td>\n",
       "    </tr>\n",
       "    <tr>\n",
       "      <th>4517</th>\n",
       "      <td>57.0</td>\n",
       "      <td>self-employed</td>\n",
       "      <td>married</td>\n",
       "      <td>tertiary</td>\n",
       "      <td>-3313.0</td>\n",
       "      <td>yes</td>\n",
       "      <td>yes</td>\n",
       "      <td>153.0</td>\n",
       "      <td>1</td>\n",
       "      <td>-1</td>\n",
       "      <td>unknown</td>\n",
       "      <td>no</td>\n",
       "    </tr>\n",
       "    <tr>\n",
       "      <th>4518</th>\n",
       "      <td>57.0</td>\n",
       "      <td>technician</td>\n",
       "      <td>married</td>\n",
       "      <td>secondary</td>\n",
       "      <td>295.0</td>\n",
       "      <td>no</td>\n",
       "      <td>no</td>\n",
       "      <td>151.0</td>\n",
       "      <td>11</td>\n",
       "      <td>-1</td>\n",
       "      <td>unknown</td>\n",
       "      <td>no</td>\n",
       "    </tr>\n",
       "    <tr>\n",
       "      <th>4519</th>\n",
       "      <td>28.0</td>\n",
       "      <td>blue-collar</td>\n",
       "      <td>married</td>\n",
       "      <td>secondary</td>\n",
       "      <td>1137.0</td>\n",
       "      <td>no</td>\n",
       "      <td>no</td>\n",
       "      <td>129.0</td>\n",
       "      <td>4</td>\n",
       "      <td>211</td>\n",
       "      <td>other</td>\n",
       "      <td>no</td>\n",
       "    </tr>\n",
       "    <tr>\n",
       "      <th>4520</th>\n",
       "      <td>44.0</td>\n",
       "      <td>entrepreneur</td>\n",
       "      <td>single</td>\n",
       "      <td>tertiary</td>\n",
       "      <td>1136.0</td>\n",
       "      <td>yes</td>\n",
       "      <td>yes</td>\n",
       "      <td>345.0</td>\n",
       "      <td>2</td>\n",
       "      <td>249</td>\n",
       "      <td>other</td>\n",
       "      <td>no</td>\n",
       "    </tr>\n",
       "  </tbody>\n",
       "</table>\n",
       "</div>"
      ],
      "text/plain": [
       "       age            job  marital  education  balance housing loan  duration  \\\n",
       "4516  33.0       services  married  secondary   -333.0     yes   no     329.0   \n",
       "4517  57.0  self-employed  married   tertiary  -3313.0     yes  yes     153.0   \n",
       "4518  57.0     technician  married  secondary    295.0      no   no     151.0   \n",
       "4519  28.0    blue-collar  married  secondary   1137.0      no   no     129.0   \n",
       "4520  44.0   entrepreneur   single   tertiary   1136.0     yes  yes     345.0   \n",
       "\n",
       "      campaign  pdays poutcome   y  \n",
       "4516         5     -1  unknown  no  \n",
       "4517         1     -1  unknown  no  \n",
       "4518        11     -1  unknown  no  \n",
       "4519         4    211    other  no  \n",
       "4520         2    249    other  no  "
      ]
     },
     "execution_count": 4,
     "metadata": {},
     "output_type": "execute_result"
    }
   ],
   "source": [
    "bank.tail()"
   ]
  },
  {
   "cell_type": "markdown",
   "id": "fd72a4af-aa28-4967-a677-c7d4bda8c534",
   "metadata": {},
   "source": [
    "As you can see above, by using \"tail\" we can see last rows of the dataframe, which is by default 5 rows."
   ]
  },
  {
   "cell_type": "code",
   "execution_count": 5,
   "id": "2cee7055-1e09-40fd-b861-81676d4b3779",
   "metadata": {},
   "outputs": [
    {
     "data": {
      "text/html": [
       "<div>\n",
       "<style scoped>\n",
       "    .dataframe tbody tr th:only-of-type {\n",
       "        vertical-align: middle;\n",
       "    }\n",
       "\n",
       "    .dataframe tbody tr th {\n",
       "        vertical-align: top;\n",
       "    }\n",
       "\n",
       "    .dataframe thead th {\n",
       "        text-align: right;\n",
       "    }\n",
       "</style>\n",
       "<table border=\"1\" class=\"dataframe\">\n",
       "  <thead>\n",
       "    <tr style=\"text-align: right;\">\n",
       "      <th></th>\n",
       "      <th>age</th>\n",
       "      <th>job</th>\n",
       "      <th>marital</th>\n",
       "      <th>education</th>\n",
       "      <th>balance</th>\n",
       "      <th>housing</th>\n",
       "      <th>loan</th>\n",
       "      <th>duration</th>\n",
       "      <th>campaign</th>\n",
       "      <th>pdays</th>\n",
       "      <th>poutcome</th>\n",
       "      <th>y</th>\n",
       "    </tr>\n",
       "  </thead>\n",
       "  <tbody>\n",
       "    <tr>\n",
       "      <th>0</th>\n",
       "      <td>30.0</td>\n",
       "      <td>unemployed</td>\n",
       "      <td>married</td>\n",
       "      <td>primary</td>\n",
       "      <td>1787.0</td>\n",
       "      <td>no</td>\n",
       "      <td>no</td>\n",
       "      <td>79.0</td>\n",
       "      <td>1</td>\n",
       "      <td>-1</td>\n",
       "      <td>unknown</td>\n",
       "      <td>no</td>\n",
       "    </tr>\n",
       "    <tr>\n",
       "      <th>1</th>\n",
       "      <td>33.0</td>\n",
       "      <td>services</td>\n",
       "      <td>married</td>\n",
       "      <td>secondary</td>\n",
       "      <td>4789.0</td>\n",
       "      <td>yes</td>\n",
       "      <td>yes</td>\n",
       "      <td>NaN</td>\n",
       "      <td>1</td>\n",
       "      <td>339</td>\n",
       "      <td>failure</td>\n",
       "      <td>no</td>\n",
       "    </tr>\n",
       "    <tr>\n",
       "      <th>2</th>\n",
       "      <td>NaN</td>\n",
       "      <td>management</td>\n",
       "      <td>single</td>\n",
       "      <td>tertiary</td>\n",
       "      <td>135.0</td>\n",
       "      <td>yes</td>\n",
       "      <td>no</td>\n",
       "      <td>185.0</td>\n",
       "      <td>1</td>\n",
       "      <td>330</td>\n",
       "      <td>failure</td>\n",
       "      <td>no</td>\n",
       "    </tr>\n",
       "    <tr>\n",
       "      <th>3</th>\n",
       "      <td>30.0</td>\n",
       "      <td>management</td>\n",
       "      <td>married</td>\n",
       "      <td>tertiary</td>\n",
       "      <td>1476.0</td>\n",
       "      <td>yes</td>\n",
       "      <td>yes</td>\n",
       "      <td>199.0</td>\n",
       "      <td>4</td>\n",
       "      <td>-1</td>\n",
       "      <td>unknown</td>\n",
       "      <td>no</td>\n",
       "    </tr>\n",
       "    <tr>\n",
       "      <th>4</th>\n",
       "      <td>59.0</td>\n",
       "      <td>blue-collar</td>\n",
       "      <td>married</td>\n",
       "      <td>secondary</td>\n",
       "      <td>NaN</td>\n",
       "      <td>yes</td>\n",
       "      <td>no</td>\n",
       "      <td>226.0</td>\n",
       "      <td>1</td>\n",
       "      <td>-1</td>\n",
       "      <td>unknown</td>\n",
       "      <td>no</td>\n",
       "    </tr>\n",
       "  </tbody>\n",
       "</table>\n",
       "</div>"
      ],
      "text/plain": [
       "    age          job  marital  education  balance housing loan  duration  \\\n",
       "0  30.0   unemployed  married    primary   1787.0      no   no      79.0   \n",
       "1  33.0     services  married  secondary   4789.0     yes  yes       NaN   \n",
       "2   NaN   management   single   tertiary    135.0     yes   no     185.0   \n",
       "3  30.0   management  married   tertiary   1476.0     yes  yes     199.0   \n",
       "4  59.0  blue-collar  married  secondary      NaN     yes   no     226.0   \n",
       "\n",
       "   campaign  pdays poutcome   y  \n",
       "0         1     -1  unknown  no  \n",
       "1         1    339  failure  no  \n",
       "2         1    330  failure  no  \n",
       "3         4     -1  unknown  no  \n",
       "4         1     -1  unknown  no  "
      ]
     },
     "execution_count": 5,
     "metadata": {},
     "output_type": "execute_result"
    }
   ],
   "source": [
    "bank.head()"
   ]
  },
  {
   "cell_type": "markdown",
   "id": "9665586d-144e-46a0-acd5-a48deb3d9261",
   "metadata": {},
   "source": [
    "As you can see above, by using \"head\" we can see first rows of the dataframe, which is by default 5 rows."
   ]
  },
  {
   "cell_type": "code",
   "execution_count": 6,
   "id": "bd9301d0-8c41-43e9-a979-3be22b84d706",
   "metadata": {},
   "outputs": [
    {
     "name": "stdout",
     "output_type": "stream",
     "text": [
      "<class 'pandas.core.frame.DataFrame'>\n",
      "RangeIndex: 4521 entries, 0 to 4520\n",
      "Data columns (total 12 columns):\n",
      " #   Column     Non-Null Count  Dtype  \n",
      "---  ------     --------------  -----  \n",
      " 0   age        3984 non-null   float64\n",
      " 1   job        4521 non-null   object \n",
      " 2   marital    4401 non-null   object \n",
      " 3   education  4521 non-null   object \n",
      " 4   balance    4164 non-null   float64\n",
      " 5   housing    4302 non-null   object \n",
      " 6   loan       4521 non-null   object \n",
      " 7   duration   4388 non-null   float64\n",
      " 8   campaign   4521 non-null   int64  \n",
      " 9   pdays      4521 non-null   int64  \n",
      " 10  poutcome   4521 non-null   object \n",
      " 11  y          4087 non-null   object \n",
      "dtypes: float64(3), int64(2), object(7)\n",
      "memory usage: 424.0+ KB\n"
     ]
    }
   ],
   "source": [
    "bank.info()"
   ]
  },
  {
   "cell_type": "markdown",
   "id": "811de30d-6b93-4e95-827a-717ce4fd0a83",
   "metadata": {},
   "source": [
    "As you can see above, by using \"info\" we can get a good summary of the dataframe, which is column names, indexes, dtypes and Non-null values and memory usage of the dataframe."
   ]
  },
  {
   "cell_type": "markdown",
   "id": "f02b635a-c59f-4598-a3ae-c15c05bad273",
   "metadata": {},
   "source": [
    "# Using info method\n",
    "According to the last cell, we have 5 numerical columns and 7 categorical columns. We can use label encoding to tranform a categorical column to a numerical one. We'll use this approach for \"marital\" column: "
   ]
  },
  {
   "cell_type": "code",
   "execution_count": 7,
   "id": "cdf73b97-5967-49b9-9980-ec70f782df6c",
   "metadata": {},
   "outputs": [
    {
     "name": "stdout",
     "output_type": "stream",
     "text": [
      "<class 'pandas.core.frame.DataFrame'>\n",
      "RangeIndex: 4521 entries, 0 to 4520\n",
      "Data columns (total 12 columns):\n",
      " #   Column     Non-Null Count  Dtype  \n",
      "---  ------     --------------  -----  \n",
      " 0   age        3984 non-null   float64\n",
      " 1   job        4521 non-null   object \n",
      " 2   marital    4401 non-null   float64\n",
      " 3   education  4521 non-null   object \n",
      " 4   balance    4164 non-null   float64\n",
      " 5   housing    4302 non-null   object \n",
      " 6   loan       4521 non-null   object \n",
      " 7   duration   4388 non-null   float64\n",
      " 8   campaign   4521 non-null   int64  \n",
      " 9   pdays      4521 non-null   int64  \n",
      " 10  poutcome   4521 non-null   object \n",
      " 11  y          4087 non-null   object \n",
      "dtypes: float64(4), int64(2), object(6)\n",
      "memory usage: 424.0+ KB\n"
     ]
    }
   ],
   "source": [
    "transform = {\n",
    "    'divorced' : 0,\n",
    "    'single' : 1,\n",
    "    'married' : 2\n",
    "}\n",
    "bank_changed = bank.replace(transform)\n",
    "bank_changed.info()"
   ]
  },
  {
   "cell_type": "markdown",
   "id": "ce0632b6-5f63-48ae-b926-d96e1297f0c2",
   "metadata": {},
   "source": [
    "As you can see, the type of marital column has been changed after this transformation."
   ]
  },
  {
   "cell_type": "markdown",
   "id": "647978c4-012d-4cc5-8457-cd8311cc0cad",
   "metadata": {},
   "source": [
    "# Counting NaNs\n",
    "To get familiar with missing values in dataframes, we'll count rows that have missing values for each column as follows:"
   ]
  },
  {
   "cell_type": "code",
   "execution_count": 8,
   "id": "3971ac54-37c6-44cf-8a69-1441d9e6d7d6",
   "metadata": {},
   "outputs": [
    {
     "data": {
      "text/plain": [
       "age          537\n",
       "job            0\n",
       "marital      120\n",
       "education      0\n",
       "balance      357\n",
       "housing      219\n",
       "loan           0\n",
       "duration     133\n",
       "campaign       0\n",
       "pdays          0\n",
       "poutcome       0\n",
       "y            434\n",
       "dtype: int64"
      ]
     },
     "execution_count": 8,
     "metadata": {},
     "output_type": "execute_result"
    }
   ],
   "source": [
    "bank.isna().sum()"
   ]
  },
  {
   "cell_type": "markdown",
   "id": "e93cce8a-39e4-42ae-9446-359f3f43dab6",
   "metadata": {},
   "source": [
    "Now we'll replace Nan values with mean of column for numerical columns and with mode of column for categorical columns to reduce missing values and get a better sense of the dataframe."
   ]
  },
  {
   "cell_type": "code",
   "execution_count": 9,
   "id": "8e097e66-35a9-48d2-be5c-ca4590f120a9",
   "metadata": {},
   "outputs": [
    {
     "data": {
      "text/plain": [
       "age            0\n",
       "job            0\n",
       "marital        0\n",
       "education      0\n",
       "balance        0\n",
       "housing        0\n",
       "loan           0\n",
       "duration       0\n",
       "campaign       0\n",
       "pdays          0\n",
       "poutcome       0\n",
       "y            434\n",
       "dtype: int64"
      ]
     },
     "execution_count": 9,
     "metadata": {},
     "output_type": "execute_result"
    }
   ],
   "source": [
    "from pandas.api.types import is_numeric_dtype\n",
    "for i in bank.columns[bank.isnull().any(axis=0)]:\n",
    "    if is_numeric_dtype(bank[i]):\n",
    "        bank[i].fillna(bank[i].mean(), inplace=True)\n",
    "    elif i != 'y':\n",
    "        bank[i].fillna(bank[i].mode()[0], inplace=True)\n",
    "bank.isna().sum()"
   ]
  },
  {
   "cell_type": "markdown",
   "id": "236ba673-6a3b-4f91-83cf-eef331b06851",
   "metadata": {},
   "source": [
    "As you can see, after this replacement, all missing values of all columns are replaced with mean/mode of that column, according to the type of that column. We'll not replave the goal column(\"y\") to predict them later. Note that using mode method, we might have more that one value for mode. So we'll use the first value for this concentration.\n",
    "If we replace missing values with mean, the mean won't change. It's easy to apply and we can keep track of whole dataset after this replacement. Specifically, if the missing values are at random positions, our estimate from mean remains unbiased too. In contrast, using this replacement will lead to bias in multivariate estimates like correlation. Imagine that missing values are far from current mean of datas. If we replace them with mean, this will cause a bias in variance(less variance as it's expected) and as explained before, more bias in other calculations like correlation. Also this replacement will cause in mean biasing in some situation(where missing values are not at random places and are skewed to a specific range. This replacement will alse skew the data to the mean(and not other places). Same explanation can be written for mode replacement in categorical columns.\n",
    "\n",
    "Now, we'll exclude the rows that have missing values in goal column and put them in another dataframe and from now on, we'll use information from known rows to predict missing rows."
   ]
  },
  {
   "cell_type": "code",
   "execution_count": 10,
   "id": "3877f31c-082d-4749-9be3-31228bd0c61e",
   "metadata": {},
   "outputs": [
    {
     "data": {
      "text/html": [
       "<div>\n",
       "<style scoped>\n",
       "    .dataframe tbody tr th:only-of-type {\n",
       "        vertical-align: middle;\n",
       "    }\n",
       "\n",
       "    .dataframe tbody tr th {\n",
       "        vertical-align: top;\n",
       "    }\n",
       "\n",
       "    .dataframe thead th {\n",
       "        text-align: right;\n",
       "    }\n",
       "</style>\n",
       "<table border=\"1\" class=\"dataframe\">\n",
       "  <thead>\n",
       "    <tr style=\"text-align: right;\">\n",
       "      <th></th>\n",
       "      <th>age</th>\n",
       "      <th>job</th>\n",
       "      <th>marital</th>\n",
       "      <th>education</th>\n",
       "      <th>balance</th>\n",
       "      <th>housing</th>\n",
       "      <th>loan</th>\n",
       "      <th>duration</th>\n",
       "      <th>campaign</th>\n",
       "      <th>pdays</th>\n",
       "      <th>poutcome</th>\n",
       "      <th>y</th>\n",
       "    </tr>\n",
       "  </thead>\n",
       "  <tbody>\n",
       "    <tr>\n",
       "      <th>34</th>\n",
       "      <td>49.00000</td>\n",
       "      <td>technician</td>\n",
       "      <td>married</td>\n",
       "      <td>tertiary</td>\n",
       "      <td>1235.0</td>\n",
       "      <td>no</td>\n",
       "      <td>no</td>\n",
       "      <td>354.00000</td>\n",
       "      <td>3</td>\n",
       "      <td>-1</td>\n",
       "      <td>unknown</td>\n",
       "      <td>NaN</td>\n",
       "    </tr>\n",
       "    <tr>\n",
       "      <th>38</th>\n",
       "      <td>33.00000</td>\n",
       "      <td>management</td>\n",
       "      <td>married</td>\n",
       "      <td>secondary</td>\n",
       "      <td>3935.0</td>\n",
       "      <td>yes</td>\n",
       "      <td>no</td>\n",
       "      <td>765.00000</td>\n",
       "      <td>1</td>\n",
       "      <td>342</td>\n",
       "      <td>failure</td>\n",
       "      <td>NaN</td>\n",
       "    </tr>\n",
       "    <tr>\n",
       "      <th>54</th>\n",
       "      <td>41.61747</td>\n",
       "      <td>blue-collar</td>\n",
       "      <td>married</td>\n",
       "      <td>secondary</td>\n",
       "      <td>2231.0</td>\n",
       "      <td>yes</td>\n",
       "      <td>no</td>\n",
       "      <td>272.00000</td>\n",
       "      <td>3</td>\n",
       "      <td>-1</td>\n",
       "      <td>unknown</td>\n",
       "      <td>NaN</td>\n",
       "    </tr>\n",
       "    <tr>\n",
       "      <th>65</th>\n",
       "      <td>51.00000</td>\n",
       "      <td>blue-collar</td>\n",
       "      <td>divorced</td>\n",
       "      <td>secondary</td>\n",
       "      <td>23.0</td>\n",
       "      <td>yes</td>\n",
       "      <td>no</td>\n",
       "      <td>134.00000</td>\n",
       "      <td>1</td>\n",
       "      <td>170</td>\n",
       "      <td>failure</td>\n",
       "      <td>NaN</td>\n",
       "    </tr>\n",
       "    <tr>\n",
       "      <th>89</th>\n",
       "      <td>41.61747</td>\n",
       "      <td>blue-collar</td>\n",
       "      <td>married</td>\n",
       "      <td>secondary</td>\n",
       "      <td>1831.0</td>\n",
       "      <td>yes</td>\n",
       "      <td>no</td>\n",
       "      <td>203.00000</td>\n",
       "      <td>2</td>\n",
       "      <td>-1</td>\n",
       "      <td>unknown</td>\n",
       "      <td>NaN</td>\n",
       "    </tr>\n",
       "    <tr>\n",
       "      <th>...</th>\n",
       "      <td>...</td>\n",
       "      <td>...</td>\n",
       "      <td>...</td>\n",
       "      <td>...</td>\n",
       "      <td>...</td>\n",
       "      <td>...</td>\n",
       "      <td>...</td>\n",
       "      <td>...</td>\n",
       "      <td>...</td>\n",
       "      <td>...</td>\n",
       "      <td>...</td>\n",
       "      <td>...</td>\n",
       "    </tr>\n",
       "    <tr>\n",
       "      <th>4470</th>\n",
       "      <td>31.00000</td>\n",
       "      <td>technician</td>\n",
       "      <td>single</td>\n",
       "      <td>tertiary</td>\n",
       "      <td>1166.0</td>\n",
       "      <td>yes</td>\n",
       "      <td>no</td>\n",
       "      <td>207.00000</td>\n",
       "      <td>1</td>\n",
       "      <td>-1</td>\n",
       "      <td>unknown</td>\n",
       "      <td>NaN</td>\n",
       "    </tr>\n",
       "    <tr>\n",
       "      <th>4471</th>\n",
       "      <td>59.00000</td>\n",
       "      <td>management</td>\n",
       "      <td>married</td>\n",
       "      <td>unknown</td>\n",
       "      <td>3534.0</td>\n",
       "      <td>no</td>\n",
       "      <td>no</td>\n",
       "      <td>216.00000</td>\n",
       "      <td>4</td>\n",
       "      <td>-1</td>\n",
       "      <td>unknown</td>\n",
       "      <td>NaN</td>\n",
       "    </tr>\n",
       "    <tr>\n",
       "      <th>4473</th>\n",
       "      <td>33.00000</td>\n",
       "      <td>technician</td>\n",
       "      <td>married</td>\n",
       "      <td>secondary</td>\n",
       "      <td>479.0</td>\n",
       "      <td>yes</td>\n",
       "      <td>no</td>\n",
       "      <td>137.00000</td>\n",
       "      <td>1</td>\n",
       "      <td>272</td>\n",
       "      <td>failure</td>\n",
       "      <td>NaN</td>\n",
       "    </tr>\n",
       "    <tr>\n",
       "      <th>4477</th>\n",
       "      <td>32.00000</td>\n",
       "      <td>management</td>\n",
       "      <td>single</td>\n",
       "      <td>tertiary</td>\n",
       "      <td>577.0</td>\n",
       "      <td>no</td>\n",
       "      <td>no</td>\n",
       "      <td>101.00000</td>\n",
       "      <td>2</td>\n",
       "      <td>-1</td>\n",
       "      <td>unknown</td>\n",
       "      <td>NaN</td>\n",
       "    </tr>\n",
       "    <tr>\n",
       "      <th>4482</th>\n",
       "      <td>46.00000</td>\n",
       "      <td>admin.</td>\n",
       "      <td>married</td>\n",
       "      <td>secondary</td>\n",
       "      <td>466.0</td>\n",
       "      <td>yes</td>\n",
       "      <td>no</td>\n",
       "      <td>264.72402</td>\n",
       "      <td>1</td>\n",
       "      <td>-1</td>\n",
       "      <td>unknown</td>\n",
       "      <td>NaN</td>\n",
       "    </tr>\n",
       "  </tbody>\n",
       "</table>\n",
       "<p>434 rows × 12 columns</p>\n",
       "</div>"
      ],
      "text/plain": [
       "           age          job   marital  education  balance housing loan  \\\n",
       "34    49.00000   technician   married   tertiary   1235.0      no   no   \n",
       "38    33.00000   management   married  secondary   3935.0     yes   no   \n",
       "54    41.61747  blue-collar   married  secondary   2231.0     yes   no   \n",
       "65    51.00000  blue-collar  divorced  secondary     23.0     yes   no   \n",
       "89    41.61747  blue-collar   married  secondary   1831.0     yes   no   \n",
       "...        ...          ...       ...        ...      ...     ...  ...   \n",
       "4470  31.00000   technician    single   tertiary   1166.0     yes   no   \n",
       "4471  59.00000   management   married    unknown   3534.0      no   no   \n",
       "4473  33.00000   technician   married  secondary    479.0     yes   no   \n",
       "4477  32.00000   management    single   tertiary    577.0      no   no   \n",
       "4482  46.00000       admin.   married  secondary    466.0     yes   no   \n",
       "\n",
       "       duration  campaign  pdays poutcome    y  \n",
       "34    354.00000         3     -1  unknown  NaN  \n",
       "38    765.00000         1    342  failure  NaN  \n",
       "54    272.00000         3     -1  unknown  NaN  \n",
       "65    134.00000         1    170  failure  NaN  \n",
       "89    203.00000         2     -1  unknown  NaN  \n",
       "...         ...       ...    ...      ...  ...  \n",
       "4470  207.00000         1     -1  unknown  NaN  \n",
       "4471  216.00000         4     -1  unknown  NaN  \n",
       "4473  137.00000         1    272  failure  NaN  \n",
       "4477  101.00000         2     -1  unknown  NaN  \n",
       "4482  264.72402         1     -1  unknown  NaN  \n",
       "\n",
       "[434 rows x 12 columns]"
      ]
     },
     "execution_count": 10,
     "metadata": {},
     "output_type": "execute_result"
    }
   ],
   "source": [
    "nan_bank = bank[bank['y'].isnull()]\n",
    "nan_bank"
   ]
  },
  {
   "cell_type": "code",
   "execution_count": 11,
   "id": "8a20b3ae-18eb-48a4-a2e0-2ff06771bd88",
   "metadata": {},
   "outputs": [
    {
     "data": {
      "text/html": [
       "<div>\n",
       "<style scoped>\n",
       "    .dataframe tbody tr th:only-of-type {\n",
       "        vertical-align: middle;\n",
       "    }\n",
       "\n",
       "    .dataframe tbody tr th {\n",
       "        vertical-align: top;\n",
       "    }\n",
       "\n",
       "    .dataframe thead th {\n",
       "        text-align: right;\n",
       "    }\n",
       "</style>\n",
       "<table border=\"1\" class=\"dataframe\">\n",
       "  <thead>\n",
       "    <tr style=\"text-align: right;\">\n",
       "      <th></th>\n",
       "      <th>age</th>\n",
       "      <th>job</th>\n",
       "      <th>marital</th>\n",
       "      <th>education</th>\n",
       "      <th>balance</th>\n",
       "      <th>housing</th>\n",
       "      <th>loan</th>\n",
       "      <th>duration</th>\n",
       "      <th>campaign</th>\n",
       "      <th>pdays</th>\n",
       "      <th>poutcome</th>\n",
       "      <th>y</th>\n",
       "    </tr>\n",
       "  </thead>\n",
       "  <tbody>\n",
       "    <tr>\n",
       "      <th>0</th>\n",
       "      <td>30.00000</td>\n",
       "      <td>unemployed</td>\n",
       "      <td>married</td>\n",
       "      <td>primary</td>\n",
       "      <td>1787.00000</td>\n",
       "      <td>no</td>\n",
       "      <td>no</td>\n",
       "      <td>79.00000</td>\n",
       "      <td>1</td>\n",
       "      <td>-1</td>\n",
       "      <td>unknown</td>\n",
       "      <td>no</td>\n",
       "    </tr>\n",
       "    <tr>\n",
       "      <th>1</th>\n",
       "      <td>33.00000</td>\n",
       "      <td>services</td>\n",
       "      <td>married</td>\n",
       "      <td>secondary</td>\n",
       "      <td>4789.00000</td>\n",
       "      <td>yes</td>\n",
       "      <td>yes</td>\n",
       "      <td>264.72402</td>\n",
       "      <td>1</td>\n",
       "      <td>339</td>\n",
       "      <td>failure</td>\n",
       "      <td>no</td>\n",
       "    </tr>\n",
       "    <tr>\n",
       "      <th>2</th>\n",
       "      <td>41.61747</td>\n",
       "      <td>management</td>\n",
       "      <td>single</td>\n",
       "      <td>tertiary</td>\n",
       "      <td>135.00000</td>\n",
       "      <td>yes</td>\n",
       "      <td>no</td>\n",
       "      <td>185.00000</td>\n",
       "      <td>1</td>\n",
       "      <td>330</td>\n",
       "      <td>failure</td>\n",
       "      <td>no</td>\n",
       "    </tr>\n",
       "    <tr>\n",
       "      <th>3</th>\n",
       "      <td>30.00000</td>\n",
       "      <td>management</td>\n",
       "      <td>married</td>\n",
       "      <td>tertiary</td>\n",
       "      <td>1476.00000</td>\n",
       "      <td>yes</td>\n",
       "      <td>yes</td>\n",
       "      <td>199.00000</td>\n",
       "      <td>4</td>\n",
       "      <td>-1</td>\n",
       "      <td>unknown</td>\n",
       "      <td>no</td>\n",
       "    </tr>\n",
       "    <tr>\n",
       "      <th>4</th>\n",
       "      <td>59.00000</td>\n",
       "      <td>blue-collar</td>\n",
       "      <td>married</td>\n",
       "      <td>secondary</td>\n",
       "      <td>1136.75024</td>\n",
       "      <td>yes</td>\n",
       "      <td>no</td>\n",
       "      <td>226.00000</td>\n",
       "      <td>1</td>\n",
       "      <td>-1</td>\n",
       "      <td>unknown</td>\n",
       "      <td>no</td>\n",
       "    </tr>\n",
       "    <tr>\n",
       "      <th>...</th>\n",
       "      <td>...</td>\n",
       "      <td>...</td>\n",
       "      <td>...</td>\n",
       "      <td>...</td>\n",
       "      <td>...</td>\n",
       "      <td>...</td>\n",
       "      <td>...</td>\n",
       "      <td>...</td>\n",
       "      <td>...</td>\n",
       "      <td>...</td>\n",
       "      <td>...</td>\n",
       "      <td>...</td>\n",
       "    </tr>\n",
       "    <tr>\n",
       "      <th>4516</th>\n",
       "      <td>33.00000</td>\n",
       "      <td>services</td>\n",
       "      <td>married</td>\n",
       "      <td>secondary</td>\n",
       "      <td>-333.00000</td>\n",
       "      <td>yes</td>\n",
       "      <td>no</td>\n",
       "      <td>329.00000</td>\n",
       "      <td>5</td>\n",
       "      <td>-1</td>\n",
       "      <td>unknown</td>\n",
       "      <td>no</td>\n",
       "    </tr>\n",
       "    <tr>\n",
       "      <th>4517</th>\n",
       "      <td>57.00000</td>\n",
       "      <td>self-employed</td>\n",
       "      <td>married</td>\n",
       "      <td>tertiary</td>\n",
       "      <td>-3313.00000</td>\n",
       "      <td>yes</td>\n",
       "      <td>yes</td>\n",
       "      <td>153.00000</td>\n",
       "      <td>1</td>\n",
       "      <td>-1</td>\n",
       "      <td>unknown</td>\n",
       "      <td>no</td>\n",
       "    </tr>\n",
       "    <tr>\n",
       "      <th>4518</th>\n",
       "      <td>57.00000</td>\n",
       "      <td>technician</td>\n",
       "      <td>married</td>\n",
       "      <td>secondary</td>\n",
       "      <td>295.00000</td>\n",
       "      <td>no</td>\n",
       "      <td>no</td>\n",
       "      <td>151.00000</td>\n",
       "      <td>11</td>\n",
       "      <td>-1</td>\n",
       "      <td>unknown</td>\n",
       "      <td>no</td>\n",
       "    </tr>\n",
       "    <tr>\n",
       "      <th>4519</th>\n",
       "      <td>28.00000</td>\n",
       "      <td>blue-collar</td>\n",
       "      <td>married</td>\n",
       "      <td>secondary</td>\n",
       "      <td>1137.00000</td>\n",
       "      <td>no</td>\n",
       "      <td>no</td>\n",
       "      <td>129.00000</td>\n",
       "      <td>4</td>\n",
       "      <td>211</td>\n",
       "      <td>other</td>\n",
       "      <td>no</td>\n",
       "    </tr>\n",
       "    <tr>\n",
       "      <th>4520</th>\n",
       "      <td>44.00000</td>\n",
       "      <td>entrepreneur</td>\n",
       "      <td>single</td>\n",
       "      <td>tertiary</td>\n",
       "      <td>1136.00000</td>\n",
       "      <td>yes</td>\n",
       "      <td>yes</td>\n",
       "      <td>345.00000</td>\n",
       "      <td>2</td>\n",
       "      <td>249</td>\n",
       "      <td>other</td>\n",
       "      <td>no</td>\n",
       "    </tr>\n",
       "  </tbody>\n",
       "</table>\n",
       "<p>4087 rows × 12 columns</p>\n",
       "</div>"
      ],
      "text/plain": [
       "           age            job  marital  education     balance housing loan  \\\n",
       "0     30.00000     unemployed  married    primary  1787.00000      no   no   \n",
       "1     33.00000       services  married  secondary  4789.00000     yes  yes   \n",
       "2     41.61747     management   single   tertiary   135.00000     yes   no   \n",
       "3     30.00000     management  married   tertiary  1476.00000     yes  yes   \n",
       "4     59.00000    blue-collar  married  secondary  1136.75024     yes   no   \n",
       "...        ...            ...      ...        ...         ...     ...  ...   \n",
       "4516  33.00000       services  married  secondary  -333.00000     yes   no   \n",
       "4517  57.00000  self-employed  married   tertiary -3313.00000     yes  yes   \n",
       "4518  57.00000     technician  married  secondary   295.00000      no   no   \n",
       "4519  28.00000    blue-collar  married  secondary  1137.00000      no   no   \n",
       "4520  44.00000   entrepreneur   single   tertiary  1136.00000     yes  yes   \n",
       "\n",
       "       duration  campaign  pdays poutcome   y  \n",
       "0      79.00000         1     -1  unknown  no  \n",
       "1     264.72402         1    339  failure  no  \n",
       "2     185.00000         1    330  failure  no  \n",
       "3     199.00000         4     -1  unknown  no  \n",
       "4     226.00000         1     -1  unknown  no  \n",
       "...         ...       ...    ...      ...  ..  \n",
       "4516  329.00000         5     -1  unknown  no  \n",
       "4517  153.00000         1     -1  unknown  no  \n",
       "4518  151.00000        11     -1  unknown  no  \n",
       "4519  129.00000         4    211    other  no  \n",
       "4520  345.00000         2    249    other  no  \n",
       "\n",
       "[4087 rows x 12 columns]"
      ]
     },
     "execution_count": 11,
     "metadata": {},
     "output_type": "execute_result"
    }
   ],
   "source": [
    "bank = bank[bank['y'].notna()]\n",
    "bank"
   ]
  },
  {
   "cell_type": "markdown",
   "id": "656e8b4f-510d-496c-ba9d-2511e5ea57a7",
   "metadata": {},
   "source": [
    "# Counting different parameters in dataframe\n",
    "Now we count values in dataframe. First we count how many people have taken housing loan as follows: "
   ]
  },
  {
   "cell_type": "code",
   "execution_count": 12,
   "id": "c38ec88d-561f-41ea-abc8-762edfbf9c23",
   "metadata": {},
   "outputs": [
    {
     "data": {
      "text/plain": [
       "yes    2389\n",
       "no     1698\n",
       "Name: housing, dtype: int64"
      ]
     },
     "execution_count": 12,
     "metadata": {},
     "output_type": "execute_result"
    }
   ],
   "source": [
    "bank['housing'].value_counts()"
   ]
  },
  {
   "cell_type": "markdown",
   "id": "b8257fdf-05c1-4451-a999-b24bcde0a0c2",
   "metadata": {},
   "source": [
    "Second we count how many people have registered for term deposit as follows:"
   ]
  },
  {
   "cell_type": "code",
   "execution_count": 13,
   "id": "085f3a9a-a8dc-4068-b6f6-a4efe177ab30",
   "metadata": {},
   "outputs": [
    {
     "data": {
      "text/plain": [
       "no     3623\n",
       "yes     464\n",
       "Name: y, dtype: int64"
      ]
     },
     "execution_count": 13,
     "metadata": {},
     "output_type": "execute_result"
    }
   ],
   "source": [
    "bank['y'].value_counts()"
   ]
  },
  {
   "cell_type": "markdown",
   "id": "3cb6d624-5590-4dcf-a91f-09678e78fe4c",
   "metadata": {},
   "source": [
    "Now we count number of people that are older than 35, single and their last poutcome is success:"
   ]
  },
  {
   "cell_type": "code",
   "execution_count": 14,
   "id": "0cd9f910-0389-46e3-851c-151955f33213",
   "metadata": {},
   "outputs": [
    {
     "data": {
      "text/plain": [
       "14"
      ]
     },
     "execution_count": 14,
     "metadata": {},
     "output_type": "execute_result"
    }
   ],
   "source": [
    "bank[(bank['age'] > 35) & (bank['marital'] == 'single') & (bank['poutcome'] == 'success')].shape[0]"
   ]
  },
  {
   "cell_type": "markdown",
   "id": "ae64cec7-6ac6-42db-b97f-663e86a27123",
   "metadata": {},
   "source": [
    "Finally, we'll calculate mean of balance for people whom their education level is secondary. First we'll calculate it by vectorized way:"
   ]
  },
  {
   "cell_type": "code",
   "execution_count": 15,
   "id": "e3ce0fee-b1c0-40e9-baae-b7035445f4d6",
   "metadata": {},
   "outputs": [
    {
     "name": "stdout",
     "output_type": "stream",
     "text": [
      "Calculated mean = 950.701723798089 in 0.0019865036010742188 seconds\n"
     ]
    }
   ],
   "source": [
    "import time\n",
    "t0 = time.time()\n",
    "mean = bank[bank['education'] == 'secondary']['balance'].mean()\n",
    "t1 = time.time()\n",
    "print('Calculated mean = {0} in {1} seconds'.format(mean, t1 - t0))"
   ]
  },
  {
   "cell_type": "markdown",
   "id": "89a81398-4821-457d-8e2a-b75a75a1b350",
   "metadata": {},
   "source": [
    "Now we'll use a for-loop approach to calculate this value:"
   ]
  },
  {
   "cell_type": "code",
   "execution_count": 16,
   "id": "ec4679c8-63d7-42e1-ba4a-f119b38b9c90",
   "metadata": {},
   "outputs": [
    {
     "name": "stdout",
     "output_type": "stream",
     "text": [
      "Calculated mean = 950.7017237980879 in 0.07049179077148438 seconds\n"
     ]
    }
   ],
   "source": [
    "new_bank = bank[bank['education'] == 'secondary']\n",
    "t0 = time.time()\n",
    "balance_sum = 0\n",
    "count = 0\n",
    "for index, row in new_bank.iterrows():\n",
    "    balance_sum += row['balance']\n",
    "    count += 1\n",
    "t1 = time.time()\n",
    "print('Calculated mean = {0} in {1} seconds'.format(balance_sum / count, t1 - t0))"
   ]
  },
  {
   "cell_type": "markdown",
   "id": "6121de8e-7fdc-406f-a75d-6d662c4926fa",
   "metadata": {},
   "source": [
    "As you can see, by comparing both approach, we'll see that there is a dramatic increase in running time for non-vectorized version(about 90 times slower than the first one)."
   ]
  },
  {
   "cell_type": "markdown",
   "id": "36a4e893-1da7-4c6e-9f03-29fad9189d27",
   "metadata": {},
   "source": [
    "# Plotting histograms for different columns\n",
    "Now, we'll plot histograms for columns to see their distribution:"
   ]
  },
  {
   "cell_type": "code",
   "execution_count": 17,
   "id": "00e62147-c17e-45cc-9d0d-7284277d171d",
   "metadata": {},
   "outputs": [
    {
     "data": {
      "image/png": "[encoded data removed]",
      "text/plain": [
       "<Figure size 432x288 with 1 Axes>"
      ]
     },
     "metadata": {
      "needs_background": "light"
     },
     "output_type": "display_data"
    },
    {
     "data": {
      "image/png": "[encoded data removed]",
      "text/plain": [
       "<Figure size 432x288 with 1 Axes>"
      ]
     },
     "metadata": {
      "needs_background": "light"
     },
     "output_type": "display_data"
    },
    {
     "data": {
      "image/png": "[encoded data removed]",
      "text/plain": [
       "<Figure size 432x288 with 1 Axes>"
      ]
     },
     "metadata": {
      "needs_background": "light"
     },
     "output_type": "display_data"
    },
    {
     "data": {
      "image/png": "[encoded data removed]",
      "text/plain": [
       "<Figure size 432x288 with 1 Axes>"
      ]
     },
     "metadata": {
      "needs_background": "light"
     },
     "output_type": "display_data"
    },
    {
     "data": {
      "image/png": "[encoded data removed]",
      "text/plain": [
       "<Figure size 432x288 with 1 Axes>"
      ]
     },
     "metadata": {
      "needs_background": "light"
     },
     "output_type": "display_data"
    },
    {
     "data": {
      "image/png": "[encoded data removed]",
      "text/plain": [
       "<Figure size 432x288 with 1 Axes>"
      ]
     },
     "metadata": {
      "needs_background": "light"
     },
     "output_type": "display_data"
    },
    {
     "data": {
      "image/png": "[encoded data removed]",
      "text/plain": [
       "<Figure size 432x288 with 1 Axes>"
      ]
     },
     "metadata": {
      "needs_background": "light"
     },
     "output_type": "display_data"
    },
    {
     "data": {
      "image/png": "[encoded data removed]",
      "text/plain": [
       "<Figure size 432x288 with 1 Axes>"
      ]
     },
     "metadata": {
      "needs_background": "light"
     },
     "output_type": "display_data"
    },
    {
     "data": {
      "image/png": "[encoded data removed]",
      "text/plain": [
       "<Figure size 432x288 with 1 Axes>"
      ]
     },
     "metadata": {
      "needs_background": "light"
     },
     "output_type": "display_data"
    },
    {
     "data": {
      "image/png": "[encoded data removed]",
      "text/plain": [
       "<Figure size 432x288 with 1 Axes>"
      ]
     },
     "metadata": {
      "needs_background": "light"
     },
     "output_type": "display_data"
    },
    {
     "data": {
      "image/png": "[encoded data removed]",
      "text/plain": [
       "<Figure size 432x288 with 1 Axes>"
      ]
     },
     "metadata": {
      "needs_background": "light"
     },
     "output_type": "display_data"
    },
    {
     "data": {
      "image/png": "[encoded data removed]",
      "text/plain": [
       "<Figure size 432x288 with 1 Axes>"
      ]
     },
     "metadata": {
      "needs_background": "light"
     },
     "output_type": "display_data"
    }
   ],
   "source": [
    "for column in bank:\n",
    "    plt.figure()\n",
    "    plt.title('Histogram of {}'.format(column))\n",
    "    plt.xticks(rotation = 45)\n",
    "    plt.xlabel(column)\n",
    "    plt.ylabel('Frequency')\n",
    "    bank[column].hist()"
   ]
  },
  {
   "cell_type": "markdown",
   "id": "01ab25d6-1311-484c-9eda-3264481124b2",
   "metadata": {},
   "source": [
    "From now on, we'll only consider numerical columns."
   ]
  },
  {
   "cell_type": "markdown",
   "id": "5c6af8a7-56d5-4d85-82b5-07c637986486",
   "metadata": {
    "tags": []
   },
   "source": [
    "# Normalizing data\n",
    "Before doing analysis, we'll normalize data to perform better results for our prediction system. We'll do this to prevent the system from getting biased from different scales in different columns. Also this will lead to computation on smaller data, which will prevent from overflow in results. We'll normalize each column by subtracting from mean and dividing by standard deviation of that column. This will make the mean of new data to zero and standard deviation to one."
   ]
  },
  {
   "cell_type": "code",
   "execution_count": 18,
   "id": "b13208f9-ef81-4ae3-85b0-bf6e7bd78efd",
   "metadata": {},
   "outputs": [
    {
     "data": {
      "text/html": [
       "<div>\n",
       "<style scoped>\n",
       "    .dataframe tbody tr th:only-of-type {\n",
       "        vertical-align: middle;\n",
       "    }\n",
       "\n",
       "    .dataframe tbody tr th {\n",
       "        vertical-align: top;\n",
       "    }\n",
       "\n",
       "    .dataframe thead th {\n",
       "        text-align: right;\n",
       "    }\n",
       "</style>\n",
       "<table border=\"1\" class=\"dataframe\">\n",
       "  <thead>\n",
       "    <tr style=\"text-align: right;\">\n",
       "      <th></th>\n",
       "      <th>age</th>\n",
       "      <th>job</th>\n",
       "      <th>marital</th>\n",
       "      <th>education</th>\n",
       "      <th>balance</th>\n",
       "      <th>housing</th>\n",
       "      <th>loan</th>\n",
       "      <th>duration</th>\n",
       "      <th>campaign</th>\n",
       "      <th>pdays</th>\n",
       "      <th>poutcome</th>\n",
       "      <th>y</th>\n",
       "    </tr>\n",
       "  </thead>\n",
       "  <tbody>\n",
       "    <tr>\n",
       "      <th>0</th>\n",
       "      <td>-1.154366</td>\n",
       "      <td>unemployed</td>\n",
       "      <td>married</td>\n",
       "      <td>primary</td>\n",
       "      <td>0.255388</td>\n",
       "      <td>no</td>\n",
       "      <td>no</td>\n",
       "      <td>-0.724620</td>\n",
       "      <td>-0.573012</td>\n",
       "      <td>-0.404051</td>\n",
       "      <td>unknown</td>\n",
       "      <td>no</td>\n",
       "    </tr>\n",
       "    <tr>\n",
       "      <th>1</th>\n",
       "      <td>-0.856422</td>\n",
       "      <td>services</td>\n",
       "      <td>married</td>\n",
       "      <td>secondary</td>\n",
       "      <td>1.406374</td>\n",
       "      <td>yes</td>\n",
       "      <td>yes</td>\n",
       "      <td>-0.005131</td>\n",
       "      <td>-0.573012</td>\n",
       "      <td>3.031432</td>\n",
       "      <td>failure</td>\n",
       "      <td>no</td>\n",
       "    </tr>\n",
       "    <tr>\n",
       "      <th>2</th>\n",
       "      <td>-0.000582</td>\n",
       "      <td>management</td>\n",
       "      <td>single</td>\n",
       "      <td>tertiary</td>\n",
       "      <td>-0.378000</td>\n",
       "      <td>yes</td>\n",
       "      <td>no</td>\n",
       "      <td>-0.313979</td>\n",
       "      <td>-0.573012</td>\n",
       "      <td>2.940492</td>\n",
       "      <td>failure</td>\n",
       "      <td>no</td>\n",
       "    </tr>\n",
       "    <tr>\n",
       "      <th>3</th>\n",
       "      <td>-1.154366</td>\n",
       "      <td>management</td>\n",
       "      <td>married</td>\n",
       "      <td>tertiary</td>\n",
       "      <td>0.136148</td>\n",
       "      <td>yes</td>\n",
       "      <td>yes</td>\n",
       "      <td>-0.259744</td>\n",
       "      <td>0.380660</td>\n",
       "      <td>-0.404051</td>\n",
       "      <td>unknown</td>\n",
       "      <td>no</td>\n",
       "    </tr>\n",
       "    <tr>\n",
       "      <th>4</th>\n",
       "      <td>1.725758</td>\n",
       "      <td>blue-collar</td>\n",
       "      <td>married</td>\n",
       "      <td>secondary</td>\n",
       "      <td>0.006078</td>\n",
       "      <td>yes</td>\n",
       "      <td>no</td>\n",
       "      <td>-0.155147</td>\n",
       "      <td>-0.573012</td>\n",
       "      <td>-0.404051</td>\n",
       "      <td>unknown</td>\n",
       "      <td>no</td>\n",
       "    </tr>\n",
       "    <tr>\n",
       "      <th>...</th>\n",
       "      <td>...</td>\n",
       "      <td>...</td>\n",
       "      <td>...</td>\n",
       "      <td>...</td>\n",
       "      <td>...</td>\n",
       "      <td>...</td>\n",
       "      <td>...</td>\n",
       "      <td>...</td>\n",
       "      <td>...</td>\n",
       "      <td>...</td>\n",
       "      <td>...</td>\n",
       "      <td>...</td>\n",
       "    </tr>\n",
       "    <tr>\n",
       "      <th>4516</th>\n",
       "      <td>-0.856422</td>\n",
       "      <td>services</td>\n",
       "      <td>married</td>\n",
       "      <td>secondary</td>\n",
       "      <td>-0.557434</td>\n",
       "      <td>yes</td>\n",
       "      <td>no</td>\n",
       "      <td>0.243872</td>\n",
       "      <td>0.698550</td>\n",
       "      <td>-0.404051</td>\n",
       "      <td>unknown</td>\n",
       "      <td>no</td>\n",
       "    </tr>\n",
       "    <tr>\n",
       "      <th>4517</th>\n",
       "      <td>1.527129</td>\n",
       "      <td>self-employed</td>\n",
       "      <td>married</td>\n",
       "      <td>tertiary</td>\n",
       "      <td>-1.699986</td>\n",
       "      <td>yes</td>\n",
       "      <td>yes</td>\n",
       "      <td>-0.437946</td>\n",
       "      <td>-0.573012</td>\n",
       "      <td>-0.404051</td>\n",
       "      <td>unknown</td>\n",
       "      <td>no</td>\n",
       "    </tr>\n",
       "    <tr>\n",
       "      <th>4518</th>\n",
       "      <td>1.527129</td>\n",
       "      <td>technician</td>\n",
       "      <td>married</td>\n",
       "      <td>secondary</td>\n",
       "      <td>-0.316655</td>\n",
       "      <td>no</td>\n",
       "      <td>no</td>\n",
       "      <td>-0.445694</td>\n",
       "      <td>2.605894</td>\n",
       "      <td>-0.404051</td>\n",
       "      <td>unknown</td>\n",
       "      <td>no</td>\n",
       "    </tr>\n",
       "    <tr>\n",
       "      <th>4519</th>\n",
       "      <td>-1.352996</td>\n",
       "      <td>blue-collar</td>\n",
       "      <td>married</td>\n",
       "      <td>secondary</td>\n",
       "      <td>0.006173</td>\n",
       "      <td>no</td>\n",
       "      <td>no</td>\n",
       "      <td>-0.530922</td>\n",
       "      <td>0.380660</td>\n",
       "      <td>1.738074</td>\n",
       "      <td>other</td>\n",
       "      <td>no</td>\n",
       "    </tr>\n",
       "    <tr>\n",
       "      <th>4520</th>\n",
       "      <td>0.236039</td>\n",
       "      <td>entrepreneur</td>\n",
       "      <td>single</td>\n",
       "      <td>tertiary</td>\n",
       "      <td>0.005790</td>\n",
       "      <td>yes</td>\n",
       "      <td>yes</td>\n",
       "      <td>0.305856</td>\n",
       "      <td>-0.255121</td>\n",
       "      <td>2.122039</td>\n",
       "      <td>other</td>\n",
       "      <td>no</td>\n",
       "    </tr>\n",
       "  </tbody>\n",
       "</table>\n",
       "<p>4087 rows × 12 columns</p>\n",
       "</div>"
      ],
      "text/plain": [
       "           age            job  marital  education   balance housing loan  \\\n",
       "0    -1.154366     unemployed  married    primary  0.255388      no   no   \n",
       "1    -0.856422       services  married  secondary  1.406374     yes  yes   \n",
       "2    -0.000582     management   single   tertiary -0.378000     yes   no   \n",
       "3    -1.154366     management  married   tertiary  0.136148     yes  yes   \n",
       "4     1.725758    blue-collar  married  secondary  0.006078     yes   no   \n",
       "...        ...            ...      ...        ...       ...     ...  ...   \n",
       "4516 -0.856422       services  married  secondary -0.557434     yes   no   \n",
       "4517  1.527129  self-employed  married   tertiary -1.699986     yes  yes   \n",
       "4518  1.527129     technician  married  secondary -0.316655      no   no   \n",
       "4519 -1.352996    blue-collar  married  secondary  0.006173      no   no   \n",
       "4520  0.236039   entrepreneur   single   tertiary  0.005790     yes  yes   \n",
       "\n",
       "      duration  campaign     pdays poutcome   y  \n",
       "0    -0.724620 -0.573012 -0.404051  unknown  no  \n",
       "1    -0.005131 -0.573012  3.031432  failure  no  \n",
       "2    -0.313979 -0.573012  2.940492  failure  no  \n",
       "3    -0.259744  0.380660 -0.404051  unknown  no  \n",
       "4    -0.155147 -0.573012 -0.404051  unknown  no  \n",
       "...        ...       ...       ...      ...  ..  \n",
       "4516  0.243872  0.698550 -0.404051  unknown  no  \n",
       "4517 -0.437946 -0.573012 -0.404051  unknown  no  \n",
       "4518 -0.445694  2.605894 -0.404051  unknown  no  \n",
       "4519 -0.530922  0.380660  1.738074    other  no  \n",
       "4520  0.305856 -0.255121  2.122039    other  no  \n",
       "\n",
       "[4087 rows x 12 columns]"
      ]
     },
     "execution_count": 18,
     "metadata": {},
     "output_type": "execute_result"
    }
   ],
   "source": [
    "normalized_bank = bank.copy()\n",
    "for column in normalized_bank:\n",
    "    if is_numeric_dtype(normalized_bank[column]):\n",
    "        normalized_bank[column] = (bank[column] - bank[column].mean())/bank[column].std()\n",
    "\n",
    "bank = normalized_bank\n",
    "bank"
   ]
  },
  {
   "cell_type": "markdown",
   "id": "e4004700-c799-4d4e-aeef-e8f26081747e",
   "metadata": {},
   "source": [
    "# Visualizing yes/no normal distribution for each feature\n",
    "Now it's prediction time! First we seperate rows from yes/no in target column:"
   ]
  },
  {
   "cell_type": "code",
   "execution_count": 19,
   "id": "4cf31113-c500-481c-ae2f-25db45b4b5f3",
   "metadata": {},
   "outputs": [],
   "source": [
    "yes = bank[bank[\"y\"] == \"yes\"]\n",
    "no = bank[bank[\"y\"] == \"no\"]"
   ]
  },
  {
   "cell_type": "code",
   "execution_count": 20,
   "id": "6b0dba21-7c16-4e0e-85b8-1d7ae24348c1",
   "metadata": {},
   "outputs": [],
   "source": [
    "# library for generating normal distribution\n",
    "from scipy.stats import norm"
   ]
  },
  {
   "cell_type": "markdown",
   "id": "536d40c1-5442-4c14-aa0a-b4be4a0f1daa",
   "metadata": {},
   "source": [
    "Now we calculate mean and standard deviation for each numerical column for both of our yes/no rows. After that, we get pdfs of normal distribution with the paramteres calculated and plot both curves(normal distribution) in one plot to see how they're seperated from each other and whether it's good to use them as prediction feature for our missing dataframe. We use normal distribution for our estimation because most of distribution in nature(like bank records, etc) are based on normal distribution. You can see the plots as follows:"
   ]
  },
  {
   "cell_type": "code",
   "execution_count": 21,
   "id": "782eace8-eefe-41d1-bb33-62145fa120db",
   "metadata": {},
   "outputs": [
    {
     "data": {
      "image/png": "[encoded data removed]",
      "text/plain": [
       "<Figure size 432x288 with 1 Axes>"
      ]
     },
     "metadata": {
      "needs_background": "light"
     },
     "output_type": "display_data"
    },
    {
     "data": {
      "image/png": "[encoded data removed]",
      "text/plain": [
       "<Figure size 432x288 with 1 Axes>"
      ]
     },
     "metadata": {
      "needs_background": "light"
     },
     "output_type": "display_data"
    },
    {
     "data": {
      "image/png": "[encoded data removed]",
      "text/plain": [
       "<Figure size 432x288 with 1 Axes>"
      ]
     },
     "metadata": {
      "needs_background": "light"
     },
     "output_type": "display_data"
    },
    {
     "data": {
      "image/png": "[encoded data removed]",
      "text/plain": [
       "<Figure size 432x288 with 1 Axes>"
      ]
     },
     "metadata": {
      "needs_background": "light"
     },
     "output_type": "display_data"
    },
    {
     "data": {
      "image/png": "[encoded data removed]",
      "text/plain": [
       "<Figure size 432x288 with 1 Axes>"
      ]
     },
     "metadata": {
      "needs_background": "light"
     },
     "output_type": "display_data"
    }
   ],
   "source": [
    "details = {}\n",
    "for feature in bank:\n",
    "    if is_numeric_dtype(bank[feature]):\n",
    "        feature_yes_mean = yes[feature].mean()\n",
    "        feature_yes_std = yes[feature].std()\n",
    "        feature_no_mean = no[feature].mean()\n",
    "        feature_no_std = no[feature].std()\n",
    "        yes_pdfs = norm(feature_yes_mean, feature_yes_std).pdf(bank[feature].sort_values())\n",
    "        no_pdfs = norm(feature_no_mean, feature_no_std).pdf(bank[feature].sort_values())\n",
    "        details[feature] = [yes_pdfs, no_pdfs]\n",
    "        plt.figure()\n",
    "        plt.xlabel(\"Normalized \" + feature)\n",
    "        plt.ylabel('PDF')\n",
    "        plt.plot(bank[feature].sort_values(), yes_pdfs, color = 'r', label = 'yes')\n",
    "        plt.plot(bank[feature].sort_values(), no_pdfs, color = 'b', label = 'no')\n",
    "        plt.legend()\n",
    "        plt.title(\"Normal distributions for feature {}\".format(feature))\n",
    "        plt.show()"
   ]
  },
  {
   "cell_type": "markdown",
   "id": "0705e60f-af68-4c19-8112-5694d9e5a7cf",
   "metadata": {},
   "source": [
    "As you can see, duration is best feature to predict the missing targets from them. It's because only in this feature we can see that curves for both lables can be seperated better. It means that for duration values less than intersection of curves, we can label that record as a no with a good confident and for values more than this point, we can label them as a yes. In other plots, curves are mixed with each other and this scenario can't be applied to them, as this will result in low accuracy in estimation. So we will use this feature for prediction.\n",
    "\n",
    "Our next job is to find the intersection of these two curves. We'll use \"shapely\" library for this purpose as follows:"
   ]
  },
  {
   "cell_type": "code",
   "execution_count": 22,
   "id": "5085b1c9-2670-4f95-93d7-6d52774a7095",
   "metadata": {},
   "outputs": [
    {
     "data": {
      "text/plain": [
       "0.7681346965513338"
      ]
     },
     "execution_count": 22,
     "metadata": {},
     "output_type": "execute_result"
    }
   ],
   "source": [
    "from shapely.geometry import LineString\n",
    "yes_string = LineString(np.column_stack((bank[\"duration\"].sort_values(), details[\"duration\"][0])))\n",
    "no_string = LineString(np.column_stack((bank[\"duration\"].sort_values(), details[\"duration\"][1])))\n",
    "intersection = yes_string.intersection(no_string)\n",
    "\n",
    "feature, p = intersection.xy\n",
    "feature[0]"
   ]
  },
  {
   "cell_type": "markdown",
   "id": "dad97052-c92e-44bb-bb63-832f7350c145",
   "metadata": {},
   "source": [
    "# Prediction for missing target values\n",
    "It's final stage! We'll normalize duration column values for rows with missing target values and predict their targets based on their normalized duration value: if it's less than intersection calculated above, we'll label them as no. Otherwise, we'll label them as yes.\n",
    "Pay attention! None of duration values is Nan, because we have replaced NaNs with mean of each column. The prediction is based on the plot that is provided above:"
   ]
  },
  {
   "cell_type": "code",
   "execution_count": 23,
   "id": "6cdfd4b8-1e22-4007-80a9-6080f3e5dccc",
   "metadata": {},
   "outputs": [
    {
     "data": {
      "text/plain": [
       "no     375\n",
       "yes     59\n",
       "Name: y, dtype: int64"
      ]
     },
     "execution_count": 23,
     "metadata": {},
     "output_type": "execute_result"
    }
   ],
   "source": [
    "normalized_bank = nan_bank.copy()\n",
    "normalized_bank[\"duration\"] = (nan_bank[\"duration\"] - nan_bank[\"duration\"].mean())/nan_bank[\"duration\"].std()\n",
    "\n",
    "normalized_bank.loc[normalized_bank.duration > feature[0], 'y'] = \"yes\"\n",
    "normalized_bank.loc[normalized_bank.duration <= feature[0], 'y'] = \"no\"\n",
    "normalized_bank['y'].value_counts()"
   ]
  },
  {
   "cell_type": "markdown",
   "id": "bf507a56-6f3f-4ebc-a5cd-f1e5c0cca2b0",
   "metadata": {},
   "source": [
    "Finally, we'll save our prediction with original indexes in a new csv file:"
   ]
  },
  {
   "cell_type": "code",
   "execution_count": 24,
   "id": "adc5ad47-dc70-4d97-8c53-23a0172779d8",
   "metadata": {},
   "outputs": [],
   "source": [
    "normalized_bank.to_csv(\"predicted_results.csv\")"
   ]
  },
  {
   "cell_type": "markdown",
   "id": "4caa6c6c-002a-427e-8bde-5525783306a3",
   "metadata": {},
   "source": [
    "# Conclusion"
   ]
  },
  {
   "cell_type": "markdown",
   "id": "bb795097-40a8-4700-ac1f-9f7656fc9b90",
   "metadata": {},
   "source": [
    "We've used a simple statistical analysis to predict missing target values in a bank term deposit dataset. First we normalized our numerical features and splitted rows to yes/no sets and calculated mean and std for each feature and for each set. Then by analyzing plots, we decided to choose duration feature for prediction. It's because this feature could split labels with more confident and finally we predicted the missing labels using this feature. It can be a good approach for a simple machine learning system if there is feature among all features that could split dataset quite well. We should pay attention that it's a simple model and for more complex datasets, we can't get a good accuracy by applying this approach, since we're just predict based on one feature and not all of them."
   ]
  }
 ],
 "metadata": {
  "kernelspec": {
   "display_name": "Python 3 (ipykernel)",
   "language": "python",
   "name": "python3"
  },
  "language_info": {
   "codemirror_mode": {
    "name": "ipython",
    "version": 3
   },
   "file_extension": ".py",
   "mimetype": "text/x-python",
   "name": "python",
   "nbconvert_exporter": "python",
   "pygments_lexer": "ipython3",
   "version": "3.7.3"
  }
 },
 "nbformat": 4,
 "nbformat_minor": 5
}
