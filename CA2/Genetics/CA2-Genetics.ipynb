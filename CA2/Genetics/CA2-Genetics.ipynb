{
 "cells": [
  {
   "cell_type": "markdown",
   "id": "428d0682-2fae-4de8-9196-7e5f02deb581",
   "metadata": {},
   "source": [
    "# AI - CA2 - Genetics - Mohamad Taha Fakharian"
   ]
  },
  {
   "cell_type": "markdown",
   "id": "8647b8f2-e6c8-457a-bddf-fd0763d9edf8",
   "metadata": {},
   "source": [
    "## Goal\n",
    "In this assignment, we're going to formulate a searching problem and try to solve that using uninformed(BFS and IDS) and informed(A* and Weighted A*) algorithms.\n",
    "\n",
    "The problem is described as follows: Gandalf wants to deliever fellows from some places to their destiation and after that, he goes to Gondor. The problem isn't that easy: There are some sleeping orks in the map and Gondolf shouldn't awake them!\n",
    "\n",
    "## Overall approach\n",
    "So let's solve the problem! First let's import some libraries and define some primary functions to formulate the problem and then solve it using methods mentioned above:"
   ]
  },
  {
   "cell_type": "code",
   "execution_count": 1,
   "id": "0f12a7e1-9c2a-4e9d-957f-e78a05f6b8df",
   "metadata": {},
   "outputs": [],
   "source": [
    "# import some libraries\n",
    "import numpy as np\n",
    "import pandas as pd\n",
    "from re import split"
   ]
  },
  {
   "cell_type": "markdown",
   "id": "2658d346-188d-4cae-a8d8-5b36e52d64c3",
   "metadata": {},
   "source": [
    "# Conclusion\n",
    "Picking a good searching algorithm depends on our needs. If memory is not a deal, Using BFS is a good choice but if we can define a good heuristic function for our problem, $A*$ is a good choice and this approach can be faster using Weighted $A*$."
   ]
  }
 ],
 "metadata": {
  "kernelspec": {
   "display_name": "Python 3 (ipykernel)",
   "language": "python",
   "name": "python3"
  },
  "language_info": {
   "codemirror_mode": {
    "name": "ipython",
    "version": 3
   },
   "file_extension": ".py",
   "mimetype": "text/x-python",
   "name": "python",
   "nbconvert_exporter": "python",
   "pygments_lexer": "ipython3",
   "version": "3.7.3"
  }
 },
 "nbformat": 4,
 "nbformat_minor": 5
}
