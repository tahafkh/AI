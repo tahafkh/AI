{
  "cells": [
    {
      "cell_type": "markdown",
      "source": [
        "# AI - CA5 - Neural Network - Phase 1 - Mohamad Taha Fakharian\n",
        "## Goal\n",
        "In this assignment, we're going to train a neural network on a handwritten persian digits dataset. Let's start!\n",
        "\n",
        "## Overall approach\n",
        "In order to train the network, we first need to read the datasets, then apply some preprocessing and after that, train the model and see the impact of hyperparameters on the accuracy of the model. Let's import some useful libraries:"
      ],
      "metadata": {
        "id": "K1YrLvD9w4tc"
      }
    },
    {
      "cell_type": "code",
      "source": [
        "import cv2\n",
        "import pickle\n",
        "\n",
        "import numpy as np\n",
        "import pandas as pd\n",
        "import matplotlib.pyplot as plt\n",
        "\n",
        "from sklearn.model_selection import train_test_split\n",
        "from sklearn.preprocessing import LabelEncoder, OneHotEncoder\n",
        "\n",
        "import random"
      ],
      "metadata": {
        "id": "UMM3GDBed_Zu"
      },
      "execution_count": 93,
      "outputs": []
    },
    {
      "cell_type": "markdown",
      "source": [
        "Since we use Google Colab to train the model, we need to upload the dataset on the drive:"
      ],
      "metadata": {
        "id": "cgav8jdX0V_-"
      }
    },
    {
      "cell_type": "code",
      "source": [
        "from google.colab import drive\n",
        "drive.mount('/content/drive')"
      ],
      "metadata": {
        "colab": {
          "base_uri": "https://localhost:8080/"
        },
        "id": "McG3Oxj4esFi",
        "outputId": "3245bc5f-0469-4b55-d63b-d7de02c28871"
      },
      "execution_count": 71,
      "outputs": [
        {
          "output_type": "stream",
          "name": "stdout",
          "text": [
            "Drive already mounted at /content/drive; to attempt to forcibly remount, call drive.mount(\"/content/drive\", force_remount=True).\n"
          ]
        }
      ]
    },
    {
      "cell_type": "markdown",
      "source": [
        "Let's import the dataset using pickle:"
      ],
      "metadata": {
        "id": "Yi9BqYGd0iim"
      }
    },
    {
      "cell_type": "code",
      "source": [
        "data = open('drive/My Drive/Uni/Term6/AI/dataset/data.pkl', 'rb')\n",
        "data = pickle.load(data)\n",
        "\n",
        "labels = open('drive/My Drive/Uni/Term6/AI/dataset/labels.pkl', 'rb')\n",
        "labels = pickle.load(labels)"
      ],
      "metadata": {
        "id": "kj2RqufYe3aa"
      },
      "execution_count": 72,
      "outputs": []
    },
    {
      "cell_type": "markdown",
      "source": [
        "Now we split the dataset to train and test datasets(20 percentage of dataset goes to test and other goes to train):"
      ],
      "metadata": {
        "id": "z8HunUSN0l8o"
      }
    },
    {
      "cell_type": "code",
      "source": [
        "data_train, data_test, y_train, y_test = train_test_split(data, labels, test_size=0.2)"
      ],
      "metadata": {
        "id": "S1bw2rUau2q_"
      },
      "execution_count": 73,
      "outputs": []
    },
    {
      "cell_type": "markdown",
      "source": [
        "## Phase 1: Data preprocessing and visualization\n",
        "Before doing anything, let's see a random image from train dataset:"
      ],
      "metadata": {
        "id": "6s4Dp7CH0yvt"
      }
    },
    {
      "cell_type": "code",
      "source": [
        "plt.imshow(random.choice(data_train))\n",
        "plt.show()"
      ],
      "metadata": {
        "colab": {
          "base_uri": "https://localhost:8080/",
          "height": 266
        },
        "id": "uedlD-iAtY31",
        "outputId": "db32ad79-35da-4dfb-a6fd-1ebdc652a5fa"
      },
      "execution_count": 74,
      "outputs": [
        {
          "output_type": "display_data",
          "data": {
            "text/plain": [
              "<Figure size 432x288 with 1 Axes>"
            ],
            "image/png": "[encoded data removed]"
          },
          "metadata": {
            "needs_background": "light"
          }
        }
      ]
    },
    {
      "cell_type": "markdown",
      "source": [
        "Let's see the range of the values each pixel can get:"
      ],
      "metadata": {
        "id": "PZiYO-fA6LL_"
      }
    },
    {
      "cell_type": "code",
      "source": [
        "data_train[0].min(), data_train[0].max()"
      ],
      "metadata": {
        "colab": {
          "base_uri": "https://localhost:8080/"
        },
        "id": "6hRURvlPtlpp",
        "outputId": "0c9ea2e6-1b8b-4f92-fc77-1b433f1e1b1e"
      },
      "execution_count": 75,
      "outputs": [
        {
          "output_type": "execute_result",
          "data": {
            "text/plain": [
              "(0, 255)"
            ]
          },
          "metadata": {},
          "execution_count": 75
        }
      ]
    },
    {
      "cell_type": "markdown",
      "source": [
        "Since not all images in dataset have same shape, we'll resize each image to 25 * 25, using cv2 library:"
      ],
      "metadata": {
        "id": "X6NtLIha70gT"
      }
    },
    {
      "cell_type": "code",
      "source": [
        "X_train = [cv2.resize(img, dsize=(25, 25)) for img in data_train]\n",
        "X_test = [cv2.resize(img, dsize=(25, 25)) for img in data_test]"
      ],
      "metadata": {
        "id": "lDQuHKBwxoUu"
      },
      "execution_count": 76,
      "outputs": []
    },
    {
      "cell_type": "markdown",
      "source": [
        "Now we'll show an image for each number with the number itself in the train dataset:"
      ],
      "metadata": {
        "id": "EnAzdRlT8qB2"
      }
    },
    {
      "cell_type": "code",
      "source": [
        "for i in range(0, 10):\n",
        "  print(\"Number = {}\".format(i))\n",
        "  index = y_train.index(i)\n",
        "  plt.imshow(X_train[index])\n",
        "  plt.show()\n",
        "  print()"
      ],
      "metadata": {
        "colab": {
          "base_uri": "https://localhost:8080/",
          "height": 1000
        },
        "id": "Bv2j3uk7zcIB",
        "outputId": "e061c5e4-17e1-4f45-c691-e1f3e304d2c0"
      },
      "execution_count": 77,
      "outputs": [
        {
          "output_type": "stream",
          "name": "stdout",
          "text": [
            "Number = 0\n"
          ]
        },
        {
          "output_type": "display_data",
          "data": {
            "text/plain": [
              "<Figure size 432x288 with 1 Axes>"
            ],
            "image/png": "[encoded data removed]"
          },
          "metadata": {
            "needs_background": "light"
          }
        },
        {
          "output_type": "stream",
          "name": "stdout",
          "text": [
            "\n",
            "Number = 1\n"
          ]
        },
        {
          "output_type": "display_data",
          "data": {
            "text/plain": [
              "<Figure size 432x288 with 1 Axes>"
            ],
            "image/png": "[encoded data removed]"
          },
          "metadata": {
            "needs_background": "light"
          }
        },
        {
          "output_type": "stream",
          "name": "stdout",
          "text": [
            "\n",
            "Number = 2\n"
          ]
        },
        {
          "output_type": "display_data",
          "data": {
            "text/plain": [
              "<Figure size 432x288 with 1 Axes>"
            ],
            "image/png": "[encoded data removed]"
          },
          "metadata": {
            "needs_background": "light"
          }
        },
        {
          "output_type": "stream",
          "name": "stdout",
          "text": [
            "\n",
            "Number = 3\n"
          ]
        },
        {
          "output_type": "display_data",
          "data": {
            "text/plain": [
              "<Figure size 432x288 with 1 Axes>"
            ],
            "image/png": "[encoded data removed]"
          },
          "metadata": {
            "needs_background": "light"
          }
        },
        {
          "output_type": "stream",
          "name": "stdout",
          "text": [
            "\n",
            "Number = 4\n"
          ]
        },
        {
          "output_type": "display_data",
          "data": {
            "text/plain": [
              "<Figure size 432x288 with 1 Axes>"
            ],
            "image/png": "[encoded data removed]"
          },
          "metadata": {
            "needs_background": "light"
          }
        },
        {
          "output_type": "stream",
          "name": "stdout",
          "text": [
            "\n",
            "Number = 5\n"
          ]
        },
        {
          "output_type": "display_data",
          "data": {
            "text/plain": [
              "<Figure size 432x288 with 1 Axes>"
            ],
            "image/png": "[encoded data removed]"
          },
          "metadata": {
            "needs_background": "light"
          }
        },
        {
          "output_type": "stream",
          "name": "stdout",
          "text": [
            "\n",
            "Number = 6\n"
          ]
        },
        {
          "output_type": "display_data",
          "data": {
            "text/plain": [
              "<Figure size 432x288 with 1 Axes>"
            ],
            "image/png": "[encoded data removed]"
          },
          "metadata": {
            "needs_background": "light"
          }
        },
        {
          "output_type": "stream",
          "name": "stdout",
          "text": [
            "\n",
            "Number = 7\n"
          ]
        },
        {
          "output_type": "display_data",
          "data": {
            "text/plain": [
              "<Figure size 432x288 with 1 Axes>"
            ],
            "image/png": "[encoded data removed]"
          },
          "metadata": {
            "needs_background": "light"
          }
        },
        {
          "output_type": "stream",
          "name": "stdout",
          "text": [
            "\n",
            "Number = 8\n"
          ]
        },
        {
          "output_type": "display_data",
          "data": {
            "text/plain": [
              "<Figure size 432x288 with 1 Axes>"
            ],
            "image/png": "[encoded data removed]"
          },
          "metadata": {
            "needs_background": "light"
          }
        },
        {
          "output_type": "stream",
          "name": "stdout",
          "text": [
            "\n",
            "Number = 9\n"
          ]
        },
        {
          "output_type": "display_data",
          "data": {
            "text/plain": [
              "<Figure size 432x288 with 1 Axes>"
            ],
            "image/png": "[encoded data removed]"
          },
          "metadata": {
            "needs_background": "light"
          }
        },
        {
          "output_type": "stream",
          "name": "stdout",
          "text": [
            "\n"
          ]
        }
      ]
    },
    {
      "cell_type": "markdown",
      "source": [
        "Now let's see the distribution of classes among train and test dataset, using 'Counter' and plot a bar chart for that:"
      ],
      "metadata": {
        "id": "fKATEQ3QCdab"
      }
    },
    {
      "cell_type": "code",
      "source": [
        "from collections import Counter\n",
        "\n",
        "plt.bar(*zip(*Counter(y_train).items()), label='Train')\n",
        "plt.bar(*zip(*Counter(y_test).items()), label='Test')\n",
        "plt.legend()\n",
        "plt.show()"
      ],
      "metadata": {
        "colab": {
          "base_uri": "https://localhost:8080/",
          "height": 265
        },
        "id": "E-VjrRgy0XXN",
        "outputId": "bbc72ac6-7d1b-49ef-fdbd-4604b01040be"
      },
      "execution_count": 78,
      "outputs": [
        {
          "output_type": "display_data",
          "data": {
            "text/plain": [
              "<Figure size 432x288 with 1 Axes>"
            ],
            "image/png": "[encoded data removed]"
          },
          "metadata": {
            "needs_background": "light"
          }
        }
      ]
    },
    {
      "cell_type": "markdown",
      "source": [
        "As you can see, we have nearly equal number of rows for each class, both for train and test datasets.\n",
        "\n",
        "Finally, we'll scale the datasets. Scaling is used to set the pixels values in the range of 0 to 1. Neural networks process inputs using small weight values, and inputs with large integer values e.g. 255 can disrupt or slow down the learning process.\n",
        "Note that if we use imread, the pixels values stored in the arrays are already scaled between 0 and 1. This is because the imread method automatically scales the image. We'll flatten the 2d array to 1d array, in order to feed it to the network as input:"
      ],
      "metadata": {
        "id": "Y-NnS9d1CpwO"
      }
    },
    {
      "cell_type": "code",
      "source": [
        "X_train = [img.flatten() / 255 for img in X_train]\n",
        "X_test = [img.flatten() / 255 for img in X_test]"
      ],
      "metadata": {
        "id": "jOrxKFyP2Tjp"
      },
      "execution_count": 79,
      "outputs": []
    },
    {
      "cell_type": "markdown",
      "metadata": {
        "id": "ex4MKm79dyH8"
      },
      "source": [
        "## Phase 2: Completing the code\n",
        "Now, we'll complete the code for each component of the network like Dataloader, activation functions, loss function, layer and the entire network. Let's go!"
      ]
    },
    {
      "cell_type": "markdown",
      "source": [
        "### Dataloader"
      ],
      "metadata": {
        "id": "T8P7BPtADw6o"
      }
    },
    {
      "cell_type": "code",
      "execution_count": 80,
      "metadata": {
        "id": "VhfyM5xddyH-"
      },
      "outputs": [],
      "source": [
        "class Dataloader:\n",
        "    '''\n",
        "    This class prepares the dataset for the neural network.\n",
        "    '''\n",
        "    \n",
        "    def __init__(self, data, labels, n_classes, batch_size=None, shuffle=False):\n",
        "        '''\n",
        "        This is the constructor. It gets dataset information and initializes the \n",
        "        Dataloader class fields.\n",
        "            Parameters:\n",
        "                data: features your dataset in pandas.Dataframe format.\n",
        "                labels: labels of your dataset in pandas.Dataframe format.\n",
        "                n_classes: number of classes you have in your dataset.\n",
        "                batch_size: the number of samples that will be propagated through the network.\n",
        "                shuffle: boolean value indicating whether or not the dataset should be shuffled\n",
        "        '''\n",
        "\n",
        "        assert len(data)==len(labels)\n",
        "\n",
        "        self.__n_classes = n_classes\n",
        "        self.__batch_size = batch_size\n",
        "        self.__shuffle = shuffle\n",
        "        self.__data = data\n",
        "        self.__onehot_labels = self.__onehot(labels, self.__n_classes)\n",
        "    \n",
        "    def __onehot(self, labels, n_classes):\n",
        "        '''\n",
        "        This private method gets labels and provides one_hot vectors of labels.\n",
        "        For categorical variables where no such ordinal relationship exists,\n",
        "        the integer encoding is not enough.\n",
        "        In this case, a one-hot encoding can be applied to the integer representation.\n",
        "        This is where the integer encoded variable is removed, and a new binary variable is\n",
        "        added for each unique integer value.\n",
        "        example:\n",
        "            red,    green,    blue\n",
        "            1,      0,        0\n",
        "            0,      1,        0\n",
        "            0,      0,        1\n",
        "                Parameters:\n",
        "                        label: lables of your dataset in pandas.Dataframe format.\n",
        "                        n_classes: number of classes you have in your dataset.\n",
        "                \n",
        "                Returns:\n",
        "                    onehot_vectors: onehot vectors of the labels\n",
        "        '''\n",
        "        onehot_vectors = pd.DataFrame(OneHotEncoder().fit_transform(labels).toarray())\n",
        "        return onehot_vectors\n",
        "    \n",
        "    def __shuffle_dataset(self):\n",
        "        '''\n",
        "        This private method shuffles your dataset.\n",
        "        It uses data and onehot_labels to shuffle them\n",
        "        symmetrical.\n",
        "        '''\n",
        "        perm = np.random.permutation((self.__data.shape[0]))\n",
        "        self.__data = self.__data[perm]\n",
        "        self.__onehot_labels = self.__onehot_labels[perm]\n",
        "\n",
        "    def __iter__(self):\n",
        "        '''\n",
        "        The __iter__() function returns an iterator for the\n",
        "        given object (array, set, tuple, etc., or custom objects).\n",
        "        This will return your dataset in the batch_size given. This should\n",
        "        be used to provide data for the neural network.\n",
        "        '''\n",
        "        \n",
        "        if self.__shuffle:\n",
        "            self.__shuffle_dataset()\n",
        "            \n",
        "        if self.__batch_size==None:\n",
        "            yield (np.matrix(self.__data), np.matrix(self.__onehot_labels))\n",
        "            return\n",
        "\n",
        "        for idx in range(0, len(self.__data), self.__batch_size):\n",
        "            yield (np.matrix(self.__data[idx:idx+self.__batch_size]), \n",
        "                   np.matrix(self.__onehot_labels[idx:idx+self.__batch_size]))"
      ]
    },
    {
      "cell_type": "markdown",
      "metadata": {
        "id": "HURyCdkbdyH_"
      },
      "source": [
        "### Activation Functions"
      ]
    },
    {
      "cell_type": "code",
      "execution_count": 90,
      "metadata": {
        "id": "b7tt4CnqdyH_"
      },
      "outputs": [],
      "source": [
        "class Identical:\n",
        "    '''\n",
        "    This is the Identical activation function. This activation function just\n",
        "    return the value it gets.\n",
        "    '''\n",
        "    \n",
        "    def __init__(self):\n",
        "        '''\n",
        "        This is the constructor. It does not have any fields\n",
        "        as a result, there is no need to do anything in the constructor.\n",
        "        '''\n",
        "        pass\n",
        "\n",
        "    \n",
        "    def __val(self, matrix):\n",
        "        '''\n",
        "        This private method gets a matrix and uses the activity function on that.\n",
        "        As this is an identical activity function, it just \n",
        "        returns np.matrix of the input.\n",
        "        \n",
        "            Parameters:\n",
        "                matrix: np.matrix of values\n",
        "            Returns:\n",
        "                identical_value: np.matrix of input with float datatypes\n",
        "        '''\n",
        "        identical_value = np.matrix(matrix, dtype=float)\n",
        "        return identical_value\n",
        "\n",
        "    def derivative(self, matrix):\n",
        "        '''\n",
        "        This method returns the derivation of the input.\n",
        "        As the derivation of x is one, this method returns\n",
        "        a matrix of one with the shape of the input matrix.\n",
        "        \n",
        "            Parameters:\n",
        "                matrix: np.matrix of values\n",
        "            Returns:\n",
        "                identical_derivative: np.matrix of ones with matrix shape\n",
        "        '''\n",
        "        temp = np.matrix(matrix, dtype=float)\n",
        "        identical_derivative = np.matrix(np.full(np.shape(temp), 1.))\n",
        "        return identical_derivative\n",
        "    \n",
        "    def __call__(self, matrix):\n",
        "        '''\n",
        "        __call__ is a special function in Python that, when implemented inside a class,\n",
        "        gives its instances (objects) the ability to behave like a function.\n",
        "        Here we return the _value method output.\n",
        "            \n",
        "            Parameters:\n",
        "                matrix: np.matrix of values\n",
        "            Returns:\n",
        "                __val(matrix): __val return value for the input matrix\n",
        "        '''\n",
        "        return self.__val(matrix)\n",
        "    \n",
        "\n",
        "class Relu:\n",
        "    '''\n",
        "    This is the Relu activation function. \n",
        "    The rectified linear activation function or ReLU for short\n",
        "    is a piecewise linear function that will output the input directly\n",
        "    if it is positive, otherwise, it will output zero.\n",
        "    '''\n",
        "    \n",
        "    def __init__(self): \n",
        "        '''\n",
        "        This is the constructor. It does not have any fields\n",
        "        as a result, there is no need to do anything in the constructor.\n",
        "        '''\n",
        "        pass\n",
        "        \n",
        "    def __val(self, matrix):\n",
        "        '''\n",
        "        This private method gets a matrix and uses the activity function on that.\n",
        "        It will set 0 in the matrix if the value is less than 0 else, it returns the value itself.\n",
        "        \n",
        "            Parameters:\n",
        "                matrix: np.matrix of values\n",
        "            Returns:\n",
        "                relu_value: np.matrix of relu activation function result\n",
        "        '''\n",
        "        temp = np.matrix(matrix, dtype=float)\n",
        "        relu_value = np.maximum(0, temp)\n",
        "        return relu_value\n",
        "\n",
        "    def derivative(self, matrix):\n",
        "        '''\n",
        "        Returns the derivation value of relu function on input matrix.\n",
        "        \n",
        "            Parameters:\n",
        "                matrix: np.matrix of values\n",
        "            Returns:\n",
        "                relu_derivative: np.matrix of relu activation function derivation result\n",
        "        '''\n",
        "        temp = np.matrix(matrix, dtype=float)\n",
        "        relu_derivative = np.matrix(np.full(np.shape(temp), np.where(temp >= 0, 1, 0)))\n",
        "        return relu_derivative\n",
        "    \n",
        "    def __call__(self, matrix):\n",
        "        '''\n",
        "        __call__ is a special function in Python that, when implemented inside a class,\n",
        "        gives its instances (objects) the ability to behave like a function.\n",
        "        Here we return the _relu method output.\n",
        "            \n",
        "            Parameters:\n",
        "                matrix: np.matrix of values\n",
        "            Returns:\n",
        "                __relu(matrix): __relu return value for the input matrix\n",
        "        '''\n",
        "        return self.__val(matrix)\n",
        "\n",
        "    \n",
        "class LeakyRelu:\n",
        "    '''\n",
        "    This is the Leaky Relu activation function. \n",
        "    Leaky Rectified Linear Unit, or Leaky ReLU,\n",
        "    is a type of activation function based on a ReLU,\n",
        "    but it has a small slope for negative values instead\n",
        "    of a flat slope.\n",
        "    '''\n",
        "    \n",
        "    def __init__(self, negative_slope=0.01):\n",
        "        '''\n",
        "        This is the constructor.\n",
        "        It sets negative_slope field.\n",
        "            Parameters:\n",
        "                negative_slope: slope for negative input values\n",
        "        '''\n",
        "        self.negative_slope = negative_slope\n",
        "    \n",
        "    def __val(self, matrix):\n",
        "        '''\n",
        "        This private method gets a matrix and uses the activity function on that.\n",
        "        It will set negative_slope*value in the matrix if the value is less than 0, else it\n",
        "        returns the value itself.\n",
        "        \n",
        "            Parameters:\n",
        "                matrix: np.matrix of values\n",
        "            Returns:\n",
        "                relu_value: np.matrix of relu activation function result\n",
        "        '''\n",
        "        temp = np.matrix(matrix, dtype=float)\n",
        "        leaky_relu_value = np.where(temp < 0, temp * self.negative_slope, temp)\n",
        "        return leaky_relu_value\n",
        "\n",
        "    def derivative(self, matrix):\n",
        "        '''\n",
        "        Returns the derivation value of leaky relu function on input matrix.\n",
        "        \n",
        "            Parameters:\n",
        "                matrix: np.matrix of values\n",
        "            Returns:\n",
        "                leacky_relu_derivative: np.matrix of leaky relu activation function derivation result\n",
        "        '''\n",
        "        temp = np.matrix(matrix, dtype=float)\n",
        "        leaky_relu_derivative = np.matrix(np.full(np.shape(temp), np.where(temp >= 0, 1, self.negative_slope)))\n",
        "        return leaky_relu_derivative\n",
        "    \n",
        "    def __call__(self, matrix):\n",
        "        '''\n",
        "        __call__ is a special function in Python that, when implemented inside a class,\n",
        "        gives its instances (objects) the ability to behave like a function.\n",
        "        Here we return the _val method output.\n",
        "            \n",
        "            Parameters:\n",
        "                matrix: np.matrix of values\n",
        "            Returns:\n",
        "                __val(matrix): __val return value for the input matrix\n",
        "        '''\n",
        "        return self.__val(matrix)\n",
        "\n",
        "    \n",
        "class Sigmoid:\n",
        "    '''\n",
        "    A sigmoid function is a mathematical function having a\n",
        "    characteristic \"S\"-shaped curve or sigmoid curve.\n",
        "    It return S(x)=1/(1+e^-x)\n",
        "    '''\n",
        "    \n",
        "    def __init__(self): \n",
        "        '''\n",
        "        This is the constructor. It does not have any fields\n",
        "        as a result, there is no need to do anything in the constructor.\n",
        "        '''\n",
        "        pass\n",
        "\n",
        "    def __val(self, matrix):\n",
        "        '''\n",
        "        Returns 1/(1+e^-x) of values\n",
        "        \n",
        "            Parameters:\n",
        "                matrix: np.matrix of values\n",
        "            Returns:\n",
        "                sigmoid_value: np.matrix of sigmoid activation function result\n",
        "        '''\n",
        "        temp = np.matrix(matrix, dtype=float)\n",
        "        sigmoid_value = 1/(1 + np.exp(-temp))\n",
        "        return sigmoid_value\n",
        "\n",
        "    def derivative(self, matrix):\n",
        "        '''\n",
        "        Returns the derivation value of sigmoid function on input matrix.\n",
        "        \n",
        "            Parameters:\n",
        "                matrix: np.matrix of values\n",
        "            Returns:\n",
        "                sigmoid_derivative: np.matrix of sigmoid activation function derivation result\n",
        "        '''\n",
        "        temp = np.matrix(matrix, dtype=float)\n",
        "        temp = self.__val(temp)\n",
        "        sigmoid_derivative = np.multiply(temp, (1 - temp))\n",
        "        return sigmoid_derivative\n",
        "    \n",
        "    def __call__(self, matrix):\n",
        "        '''\n",
        "        __call__ is a special function in Python that, when implemented inside a class,\n",
        "        gives its instances (objects) the ability to behave like a function.\n",
        "        Here we return the _val method output.\n",
        "            \n",
        "            Parameters:\n",
        "                matrix: np.matrix of values\n",
        "            Returns:\n",
        "                __val(matrix): __val return value for the input matrix\n",
        "        '''\n",
        "        return self.__val(matrix)\n",
        "\n",
        "\n",
        "class Softmax:\n",
        "    '''\n",
        "    The softmax function, also known as softargmax  or normalized\n",
        "    exponential function is a generalization of the logistic\n",
        "    function to multiple dimensions. It is used in multinomial logistic\n",
        "    regression and is often used as the last activation function of a neural\n",
        "    network to normalize the output of a network to a probability distribution\n",
        "    over predicted output classes, based on Luce's choice axiom.\n",
        "    Softmax return (e^x_i / (Σe^x_j for j = 1, ..., J))\n",
        "    '''\n",
        "        \n",
        "    def __init__(self): \n",
        "        '''\n",
        "        This is the constructor. It does not have any fields\n",
        "        as a result, there is no need to do anything in the constructor.\n",
        "        '''\n",
        "        pass\n",
        "        \n",
        "\n",
        "    def __val(self, matrix):\n",
        "        '''\n",
        "        This private method gets a matrix and uses the softmax on that.\n",
        "        Softmax return (e^x_i / (Σe^x_j for j = 1, ..., J))\n",
        "        \n",
        "            Parameters:\n",
        "                matrix: np.matrix of values\n",
        "            Returns:\n",
        "                softmax_value: np.matrix of softmax activation function result\n",
        "        '''\n",
        "        temp = np.matrix(matrix, dtype=float)    \n",
        "        softmax_value = np.apply_along_axis(lambda row: np.exp(row - np.max(row))/np.sum(np.exp(row - np.max(row))), 1, temp)\n",
        "        return softmax_value\n",
        "    \n",
        "    def __call__(self, matrix):\n",
        "        '''\n",
        "        __call__ is a special function in Python that, when implemented inside a class,\n",
        "        gives its instances (objects) the ability to behave like a function.\n",
        "        Here we return the _val method output.\n",
        "            \n",
        "            Parameters:\n",
        "                matrix: np.matrix of values\n",
        "            Returns:\n",
        "                __val(matrix): __val return value for the input matrix\n",
        "        '''\n",
        "        return self.__val(matrix)\n",
        "    \n",
        "class Tanh:\n",
        "    '''\n",
        "    tanh is also like logistic sigmoid but better. \n",
        "    The range of the tanh function is from (-1 to 1).\n",
        "    tanh is also sigmoidal (s - shaped).\n",
        "    '''\n",
        "    \n",
        "    def __init__(self): \n",
        "        '''\n",
        "        This is the constructor. It does not have any fields\n",
        "        as a result, there is no need to do anything in the constructor.\n",
        "        '''\n",
        "        pass\n",
        "\n",
        "    def __val(self, matrix): # check\n",
        "        '''\n",
        "        This private method gets a matrix and uses the activity function on that.\n",
        "        It performs Tanh on the values.\n",
        "        \n",
        "            Parameters:\n",
        "                matrix: np.matrix of values\n",
        "            Returns:\n",
        "                tanh_value: np.matrix of Tanh activation function result\n",
        "        '''\n",
        "        temp = np.matrix(matrix, dtype=float)\n",
        "        tanh_value = np.tanh(temp)\n",
        "        tanh_value = np.matrix(tanh_value)\n",
        "        return tanh_value\n",
        "\n",
        "    def derivative(self, matrix):\n",
        "        '''\n",
        "        Returns the derivation value of Tanh function on input matrix.\n",
        "        \n",
        "            Parameters:\n",
        "                matrix: np.matrix of values\n",
        "            Returns:\n",
        "                sigmoid_derivative: np.matrix of Tanh activation function derivation result\n",
        "        '''\n",
        "        temp = np.matrix(matrix, dtype=float)\n",
        "        tanh_derivative = 1 - np.power(self.__val(temp), 2)\n",
        "        return tanh_derivative\n",
        "    \n",
        "    def __call__(self, matrix):\n",
        "        '''\n",
        "        __call__ is a special function in Python that, when implemented inside a class,\n",
        "        gives its instances (objects) the ability to behave like a function.\n",
        "        Here we return the _val method output.\n",
        "            \n",
        "            Parameters:\n",
        "                matrix: np.matrix of values\n",
        "            Returns:\n",
        "                __val(matrix): __val return value for the input matrix\n",
        "        '''\n",
        "        return self.__val(matrix)"
      ]
    },
    {
      "cell_type": "markdown",
      "metadata": {
        "id": "BbAFGwNQdyIB"
      },
      "source": [
        "### Loss Function"
      ]
    },
    {
      "cell_type": "code",
      "execution_count": 82,
      "metadata": {
        "id": "DsqP05GWdyIB"
      },
      "outputs": [],
      "source": [
        "class CrossEntropy: #(with softmax)\n",
        "    '''\n",
        "    Cross-entropy is a measure of the difference between two probability\n",
        "    distributions for a given random variable or set of events. You might\n",
        "    recall that information quantifies the number of bits required to encode\n",
        "    and transmit an event.\n",
        "    The above image can help you.\n",
        "    '''\n",
        "    \n",
        "    def __init__(self): \n",
        "        '''\n",
        "        This is the constructor. It does not have any fields\n",
        "        as a result, there is no need to do anything in the constructor.\n",
        "        '''\n",
        "        pass\n",
        "\n",
        "    def __val(self, true_val, expected_val):\n",
        "        '''\n",
        "        L(y^, y) = - Σ (y^(k)log (y^)^(k)) for k in K\n",
        "        Parameters:\n",
        "            true_val: calculated values (generated by neural network)\n",
        "            expected_val: real values in dataset\n",
        "        Returns:\n",
        "            cross_entropy_value: cross entropy of inputs\n",
        "        '''\n",
        "        assert np.shape(true_val)==np.shape(expected_val)\n",
        "        \n",
        "        temp = np.matrix(true_val, dtype=float)\n",
        "        output = np.log(Softmax()(temp))\n",
        "        expected = np.matrix(expected_val, dtype=float)\n",
        "        \n",
        "        cross_entropy_value =  -1 * np.sum(np.multiply(expected, output), axis=1)\n",
        "        \n",
        "        return cross_entropy_value\n",
        "    \n",
        "        \n",
        "    def derivative(self, true_val, expected_val):\n",
        "        '''\n",
        "        Returns derivation of cross entropy.\n",
        "            Parameters:\n",
        "                true_val: calculated values (generated by neural network)\n",
        "                expected_val: real values in dataset\n",
        "            Returns:\n",
        "                cross_entropy_derivative: cross entropy derivation of inputs\n",
        "        '''\n",
        "        assert np.shape(true_val)==np.shape(expected_val)\n",
        "                                           \n",
        "        temp = np.matrix(true_val, dtype=float)\n",
        "        output = Softmax()(temp)\n",
        "        expected = np.matrix(expected_val, dtype=float)\n",
        "                                           \n",
        "        cross_entropy_derivative = output - expected\n",
        "                                           \n",
        "        return cross_entropy_derivative\n",
        "    \n",
        "    def __call__(self, true_val, expected_val):\n",
        "        '''\n",
        "        __call__ is a special function in Python that, when implemented inside a class,\n",
        "        gives its instances (objects) the ability to behave like a function.\n",
        "        Here we return the _val method output.\n",
        "            \n",
        "            Parameters:\n",
        "                true_val: calculated values (generated by neural network)\n",
        "                expected_val: real values in dataset\n",
        "            Returns:\n",
        "                __val(matrix): __val return value for the input matrix\n",
        "        '''\n",
        "        return self.__val(true_val, expected_val)"
      ]
    },
    {
      "cell_type": "markdown",
      "metadata": {
        "id": "Rmw-yO4VdyIC"
      },
      "source": [
        "### Layer"
      ]
    },
    {
      "cell_type": "code",
      "execution_count": 83,
      "metadata": {
        "id": "uNLF4j7JdyIC"
      },
      "outputs": [],
      "source": [
        "class Layer:\n",
        "    '''\n",
        "    The layer class is used to define neural network layers.\n",
        "    It stores all needed information for each layer, such as neurons count,\n",
        "    weight matrix, bias, the output after applying the activation function, etc.\n",
        "    '''\n",
        "\n",
        "    DEFAULT_LOW, DEFAULT_HIGH, DEFAULT_MEAN, DEFAULT_VAR = 0, 0.05, 0., 1.\n",
        "  \n",
        "    def __init__(self, input_size, output_size, activation=Identical(), initial_weight='uniform', \n",
        "                 **initializing_parameters):\n",
        "        '''\n",
        "        Parameters:\n",
        "            input_size: the size of the input of this layer.\n",
        "            output_size: the size of the output after this layer.\n",
        "            activation: the activation function. It can be initialized to either of the previously defined activation classes.\n",
        "                               default is an Identical activation function.\n",
        "            initial_weight: either normal or uniform. It defines the method for weight initialization.\n",
        "        '''\n",
        "        \n",
        "        assert type(initial_weight)==str, 'Undefined activation function!'\n",
        "        \n",
        "        self.__weight_initializer_dict = {'uniform':self.__uniform_weight, \n",
        "                                          'normal':self.__normal_weight, \n",
        "                                          'zero':self.__zero_weight}\n",
        "        \n",
        "        assert initial_weight in self.__weight_initializer_dict, 'Undefined weight initialization function!'\n",
        "\n",
        "\n",
        "        self.__n_neurons = output_size\n",
        "        weight_initializer = self.__weight_initializer_dict[initial_weight]\n",
        "        self.__weight = weight_initializer(input_size, self.__n_neurons, **initializing_parameters)\n",
        "        self.__bias = weight_initializer(1, self.__n_neurons, **initializing_parameters)\n",
        "        self.__activation = activation\n",
        "        \n",
        "        self.__last_input = None\n",
        "        self.__last_activation_input = None\n",
        "        self.__last_activation_output = None\n",
        "        self.__last_activation_derivative = None\n",
        "        \n",
        "    def forward(self, layer_input):\n",
        "        '''\n",
        "        It calculates the output of this layer for the layer_input argument.\n",
        "        This method also stores __last_input, __last_activation_input, and __last_activation_derivative\n",
        "        for future use in backpropagation.\n",
        "        Parameters:\n",
        "            layer_input: 2d np.matrix representing the input matrix of this layer.\n",
        "        Returns:\n",
        "            Final output of this layer after applying the activation function.\n",
        "        '''\n",
        "        assert np.ndim(layer_input)==2\n",
        "        assert np.size(self.__weight,0) == np.size(layer_input,1)\n",
        "        \n",
        "        self.__last_input = np.matrix(layer_input, dtype=float)\n",
        "        self.__last_activation_input = np.add(np.dot(self.__last_input, self.__weight), self.__bias)\n",
        "\n",
        "        self.__last_activation_output = self.__activation(self.__last_activation_input)\n",
        "\n",
        "        self.__last_activation_derivative = self.__activation.derivative(self.__last_activation_input)        \n",
        "        return self.__last_activation_output\n",
        "    \n",
        "    def update_weights(self, backprop_tensor, lr):\n",
        "        '''\n",
        "        It updates Layer weights according to the backpropagation matrix and learning rate.\n",
        "        This method updates bias values as well.\n",
        "        Parameters:\n",
        "            backprop_tensor: 2d np.matrix passed from the next layer containing gradient values.\n",
        "            lr: learning rate\n",
        "        Returns:\n",
        "            backprop_tensor to be used by the previous layer.\n",
        "        '''\n",
        "        assert np.ndim(backprop_tensor)==2\n",
        "        assert np.size(backprop_tensor,0) == np.size(self.__last_activation_derivative,0)\n",
        "        assert np.size(backprop_tensor,1) == self.__n_neurons\n",
        "        \n",
        "        ones = np.matrix(np.ones((np.size(backprop_tensor,axis=0), 1)))\n",
        "\n",
        "        dy = np.multiply(backprop_tensor, self.__last_activation_derivative)\n",
        "        db = np.matmul(ones.T, dy)\n",
        "        dw = np.matmul(self.__last_input.T, dy)\n",
        "        \n",
        "        backprop_tensor = np.matmul(dy, np.transpose(self.__weight))\n",
        "\n",
        "        self.__weight -= lr * dw\n",
        "        self.__bias -= lr * db\n",
        "        \n",
        "        return backprop_tensor\n",
        "\n",
        "    def __uniform_weight(self, dim1, dim2, **initializing_parameters):\n",
        "        '''\n",
        "        Initializes weights as a uniform distribution between low and high values.\n",
        "        It uses default low and high values unless low or high are passed in initializing_parameters.\n",
        "        Parameters:\n",
        "            dim1: the size of the first dimension of weights.\n",
        "            dim2: the size of the second dimension of weights.\n",
        "            initializing_parameters: other initializing parameters; it can include custom low or high values.\n",
        "        Returns:\n",
        "            np.matrix with size (dim1, dim2) initialized using uniformly distributed values.\n",
        "        '''\n",
        "        low, high = self.DEFAULT_LOW, self.DEFAULT_HIGH\n",
        "        if 'low' in initializing_parameters.keys(): low = initializing_parameters['low']\n",
        "        if 'high' in initializing_parameters.keys(): high = initializing_parameters['high']\n",
        "        \n",
        "        weights = np.matrix(np.random.uniform(low, high, size=(dim1, dim2)))\n",
        "        return weights\n",
        "\n",
        "    def __normal_weight(self, dim1, dim2, **initializing_parameters):\n",
        "        '''\n",
        "        Initializes weights as a normal distribution with mean and var values.\n",
        "        It uses default mean and variance values unless mean or var are passed in initializing_parameters.\n",
        "        Parameters:\n",
        "            dim1: the size of the first dimension of weights.\n",
        "            dim2: the size of the second dimension of weights.\n",
        "            initializing_parameters: other initializing parameters; it can include custom mean or var values.\n",
        "        Returns:\n",
        "            np.matrix with size (dim1, dim2) initialized using normaly distributed values.\n",
        "        ''' \n",
        "        mean, var = self.DEFAULT_MEAN, self.DEFAULT_VAR\n",
        "        if 'mean' in initializing_parameters.keys(): mean = initializing_parameters['mean']\n",
        "        if 'var' in initializing_parameters.keys(): var = initializing_parameters['var']\n",
        "        weights = np.matrix(np.random.normal(mean, np.sqrt(var), size=(dim1, dim2)))\n",
        "        return weights\n",
        "    \n",
        "    # Not necessary\n",
        "    def __zero_weight(self, dim1, dim2, **initializing_parameters):\n",
        "        '''\n",
        "        Initializes weights as 0.\n",
        "        Parameters:\n",
        "            dim1: the size of the first dimension of weights.\n",
        "            dim2: the size of the second dimension of weights.\n",
        "        Returns:\n",
        "            np.matrix with size (dim1, dim2) initialized using 0 values.\n",
        "        ''' \n",
        "        weights = np.matrix(np.zeros(shape=(dim1,dim2)))\n",
        "        return weights\n",
        "    \n",
        "    @property\n",
        "    def n_neurons(self): return self.__n_neurons\n",
        "    \n",
        "    @property\n",
        "    def weight(self): return self.__weight\n",
        "    \n",
        "    @property\n",
        "    def bias(self): return self.__bias\n",
        "    \n",
        "    @property\n",
        "    def activation(self): return self.__activation"
      ]
    },
    {
      "cell_type": "markdown",
      "metadata": {
        "id": "gB7Hu5kCdyIC"
      },
      "source": [
        "### Feed Forward Neural Network"
      ]
    },
    {
      "cell_type": "code",
      "execution_count": 84,
      "metadata": {
        "id": "Yd6DchbMdyID"
      },
      "outputs": [],
      "source": [
        "class FeedForwardNN:\n",
        "    '''\n",
        "    This class is used in order to implement custom feed-forward neural networks.\n",
        "    The FeedForwardNN class stores a list of layers that determines all network layers.\n",
        "    It also consists of the learning rate and loss function.\n",
        "    '''\n",
        "    def __init__(self, input_shape):\n",
        "        '''\n",
        "        Parameters:\n",
        "            input_shape: the size of the first input to our neural network.\n",
        "        '''\n",
        "        \n",
        "        self.__input_shape = input_shape\n",
        "        self.__output_shape = None\n",
        "        \n",
        "        self.__layers_list = []\n",
        "        \n",
        "        self.__lr = None\n",
        "        self.__loss = None\n",
        "\n",
        "        \n",
        "    def add_layer(self, n_neurons, activation=Relu(), initial_weight='uniform', **initializing_parameters):\n",
        "        '''\n",
        "         This method adds a new custom layer to the layers_list.\n",
        "         Parameters:\n",
        "             n_neurons: number of neurons in this layer\n",
        "             activation: the activation function of this layer, default is Relu\n",
        "             initial_weight: either a uniform or normal, default is uniform\n",
        "             initializing_parameters: other initializing parameters such as low, high, mean, var, etc\n",
        "        '''\n",
        "         \n",
        "        assert type(n_neurons)==int, \"Invalid number of neurons for the layer!\"\n",
        "        assert n_neurons>0, \"Invalid number of neurons for the layer!\"\n",
        "        \n",
        "        n_prev_neurons = self.__input_shape if len(self.__layers_list)==0 else self.__layers_list[-1].n_neurons\n",
        "        new_layer = Layer(n_prev_neurons, n_neurons, activation, initial_weight, **initializing_parameters)\n",
        "        self.__layers_list.append(new_layer)\n",
        "        self.__output_shape = self.__layers_list[-1].n_neurons \n",
        "      \n",
        "    \n",
        "    def set_training_param(self, loss=CrossEntropy(), lr=1e-3):\n",
        "        '''\n",
        "        This method is used to set training parameters.\n",
        "        Parameters:\n",
        "            loss: loss function, default is CrossEntropy\n",
        "            lr: learning rate, default is 1e-3\n",
        "        '''\n",
        "        assert self.__layers_list, \"Uncomplete model!\"\n",
        "        self.__loss = loss\n",
        "        self.__lr = lr\n",
        "    \n",
        "    \n",
        "    def forward(self, network_input):\n",
        "        '''\n",
        "        This method calculates the output of the complete neural network for a passed input.\n",
        "        Parameters:\n",
        "            network_input: input of the neural network\n",
        "        Returns:\n",
        "            network_output: output of the neural network after forwarding the network_input\n",
        "        '''\n",
        "        assert type(self.__output_shape) != None, \"Model is not compiled!\"\n",
        "\n",
        "        network_output = network_input\n",
        "        for layer in self.__layers_list:\n",
        "            network_output = layer.forward(network_output)\n",
        "        \n",
        "        return network_output\n",
        "    \n",
        "    \n",
        "    def fit(self, epochs, trainloader, testloader=None, print_results=True):\n",
        "        '''\n",
        "        This method trains the neural network using specified parameters.\n",
        "        It runs the __train private method epoch times and fills the log dictionary.\n",
        "        Parameters:\n",
        "            epochs: number of epochs to run\n",
        "            trainloader: DataLoader for train data\n",
        "            testloader: DataLoader for test data\n",
        "            print_results: whether or not to print the results\n",
        "        Returns:\n",
        "            log: complete log of the training process as a dictionary consisting of\n",
        "            train_accuracy, train_loss, test_accuracy, test_loss\n",
        "        '''\n",
        "        \n",
        "        assert type(self.__output_shape) != None, \"Model is not compiled!\"\n",
        "        assert type(self.__lr) != None and type(self.__loss) != None, \"Training paramenters are not set!\"\n",
        "\n",
        "        log = {\"train_accuracy\":[], \"train_loss\":[], \"test_accuracy\":[], \"test_loss\":[]}\n",
        "        \n",
        "        for epoch in range(1, epochs+1):\n",
        "            \n",
        "            if print_results: \n",
        "                print('Epoch {}:'.format(epoch)) \n",
        "                \n",
        "            average_accuracy, average_loss = self.__train(trainloader)\n",
        "            log['train_accuracy'].append(average_accuracy)\n",
        "            log['train_loss'].append(average_loss)\n",
        "            if print_results:\n",
        "                print('\\tTrain: Average Accuracy: {}\\tAverage Loss: {}'.format(average_accuracy, average_loss))\n",
        "            \n",
        "            if type(testloader) != type(None):\n",
        "                average_accuracy, average_loss = self.__test(testloader)\n",
        "                log['test_accuracy'].append(average_accuracy)\n",
        "                log['test_loss'].append(average_loss)\n",
        "                if print_results:\n",
        "                    print('\\tTest: Average Accuracy: {}\\tAverage Loss: {}'.format(average_accuracy, average_loss))\n",
        "                    \n",
        "        return log\n",
        "    \n",
        "    \n",
        "    def __train(self, trainloader):\n",
        "        '''\n",
        "        Trains the neural network for one epoch.\n",
        "        Parameters:\n",
        "            trainloader: A DataLoader consisting of train data\n",
        "        Returns:\n",
        "            batch_accuracy, batch_loss: mean of all batch_accuracies, batch_losses\n",
        "        '''\n",
        "        batch_accuracies, batch_losses = [], []\n",
        "        for x_train, y_train in trainloader:\n",
        "            batch_accuracy, batch_loss = self.__train_on_batch(x_train, y_train)\n",
        "            batch_accuracies.append(batch_accuracy)\n",
        "            batch_losses.append(batch_loss)\n",
        "        return np.mean(batch_accuracies), np.mean(batch_losses)\n",
        "    \n",
        "    \n",
        "    def __test(self, testloader):\n",
        "        '''\n",
        "        Test the neural network using a testloader.\n",
        "        Parameters:\n",
        "            testloader: A DataLoader of test data\n",
        "        Returns:\n",
        "            batch_accuracy, batch_loss: mean of all batch_accuracies, batch_losses\n",
        "        '''\n",
        "        batch_accuracies, batch_losses = [], []\n",
        "        for x_test, y_test in testloader:\n",
        "            batch_accuracy, batch_loss = self.__test_on_batch(x_test, y_test)\n",
        "            batch_accuracies.append(batch_accuracy)\n",
        "            batch_losses.append(batch_loss)\n",
        "\n",
        "        return np.mean(batch_accuracies), np.mean(batch_losses)\n",
        "\n",
        "    \n",
        "    def __train_on_batch(self, x_batch, y_batch):\n",
        "        '''\n",
        "        Trains the neural network for one batch of train data.\n",
        "        Parameters:\n",
        "            x_batch: one batch data\n",
        "            y_batch: labels for one batch\n",
        "        Returns:\n",
        "            (batch_accuracy, batch_average_loss)\n",
        "        '''\n",
        "        network_output = self.forward(x_batch)\n",
        "        batch_accuracy = self.__compute_accuracy(network_output, y_batch)\n",
        "        batch_average_loss = np.mean(self.__loss(network_output, y_batch))\n",
        "\n",
        "        self.__update_weights(network_output, y_batch)\n",
        "\n",
        "        return (batch_accuracy, batch_average_loss)\n",
        "        \n",
        "        \n",
        "    def __test_on_batch(self, x_batch, y_batch):\n",
        "        '''\n",
        "        Tests the neural network for one batch of test data.\n",
        "        Parameters:\n",
        "            x_batch: one batch data\n",
        "            y_batch: labels for one batch\n",
        "        Returns:\n",
        "            (batch_accuracy, batch_average_loss)\n",
        "        '''  \n",
        "        network_output = self.forward(x_batch)\n",
        "\n",
        "        batch_accuracy = self.__compute_accuracy(network_output, y_batch)\n",
        "        batch_average_loss = np.mean(self.__loss(network_output, y_batch))\n",
        "        \n",
        "        return (batch_accuracy, batch_average_loss)\n",
        "            \n",
        "        \n",
        "    def __get_labels(self, outputs):\n",
        "        '''\n",
        "        Parameters:\n",
        "            outputs: output of the neural network\n",
        "        Returns:\n",
        "            labels: labels generated from the outputs of the neural network\n",
        "        '''\n",
        "        labels = outputs.argmax(1)\n",
        "        return labels\n",
        "    \n",
        "    \n",
        "    def __compute_accuracy(self, output, expected_output):\n",
        "        '''\n",
        "        Computes accuracy by comparing output and expected_output.\n",
        "        Parameters:\n",
        "            output: actual output of the neural network\n",
        "            expected_output: expected output\n",
        "        Returns:\n",
        "            accuracy\n",
        "        '''\n",
        "        labels = self.__get_labels(output)\n",
        "        expected_labels = self.__get_labels(expected_output)\n",
        "        accuracy = np.count_nonzero(labels == expected_labels) / np.size(output, axis=0) * 100\n",
        "        return accuracy\n",
        "    \n",
        "    \n",
        "    def __update_weights(self, output, y_train):\n",
        "        '''\n",
        "        Updates weights of all layers according to neural network output and labels.\n",
        "        Parameters:\n",
        "            output: output of the neural network\n",
        "            y_train: y labels for one batch of train data\n",
        "        Returns:\n",
        "            None\n",
        "        '''\n",
        "        backpropagation_tensor = self.__loss.derivative(output, y_train)\n",
        "        for layer in reversed(self.__layers_list):\n",
        "            backpropagation_tensor = layer.update_weights(backpropagation_tensor, self.__lr)\n",
        "        return"
      ]
    },
    {
      "cell_type": "code",
      "source": [
        "X_train = pd.DataFrame(data=X_train)\n",
        "X_test = pd.DataFrame(data=X_test)"
      ],
      "metadata": {
        "id": "mc6bN4gvDhlH"
      },
      "execution_count": 85,
      "outputs": []
    },
    {
      "cell_type": "code",
      "source": [
        "y_train = pd.DataFrame(data=y_train)\n",
        "y_test = pd.DataFrame(data=y_test)"
      ],
      "metadata": {
        "id": "55pgG5OtEAXb"
      },
      "execution_count": 86,
      "outputs": []
    },
    {
      "cell_type": "markdown",
      "metadata": {
        "id": "FVuP_v9ddyID"
      },
      "source": [
        "## Phase 3: Data classification\n",
        "First we set the default values, according to the description for the network:"
      ]
    },
    {
      "cell_type": "code",
      "source": [
        "INPUT_SHAPE = 25 * 25\n",
        "LEARNING_RATE = 0.001\n",
        "EPOCHS = 15\n",
        "BATCH_SIZE = 32"
      ],
      "metadata": {
        "id": "2oumeQtKegdD"
      },
      "execution_count": 87,
      "outputs": []
    },
    {
      "cell_type": "markdown",
      "source": [
        "Now we'll implement a function to train a neural network with parameters for later uses:"
      ],
      "metadata": {
        "id": "XzgosRBJGEkN"
      }
    },
    {
      "cell_type": "code",
      "source": [
        "def train_model(activation=Relu(), initial='uniform', print_results=True, lr=LEARNING_RATE, epochs=EPOCHS, batch_size=BATCH_SIZE):\n",
        "  TRAINLOADER = [batch for batch in Dataloader(X_train, y_train, n_classes=10, batch_size=batch_size, shuffle=False)]\n",
        "  TESTLOADER = [batch for batch in Dataloader(X_test, y_test, n_classes=10, batch_size=batch_size, shuffle=False)]\n",
        "\n",
        "  network = FeedForwardNN(INPUT_SHAPE)\n",
        "  network.add_layer(50, activation=activation, initial_weight=initial)\n",
        "  network.add_layer(10, activation=Identical(), initial_weight=initial)\n",
        "  network.set_training_param(loss=CrossEntropy(), lr=lr)\n",
        "\n",
        "  log = network.fit(epochs, TRAINLOADER, TESTLOADER, print_results=print_results)\n",
        "  return log"
      ],
      "metadata": {
        "id": "O2qxPWiveNem"
      },
      "execution_count": 97,
      "outputs": []
    },
    {
      "cell_type": "markdown",
      "source": [
        "### Training the network\n",
        "Let's train a model with the default values and see the results:"
      ],
      "metadata": {
        "id": "NqmxC1BPGOnl"
      }
    },
    {
      "cell_type": "code",
      "execution_count": 99,
      "metadata": {
        "id": "mGTaoT6_dyID",
        "colab": {
          "base_uri": "https://localhost:8080/"
        },
        "outputId": "e62cbce0-3263-4fcd-a643-ca3a0be85585"
      },
      "outputs": [
        {
          "output_type": "stream",
          "name": "stdout",
          "text": [
            "Epoch 1:\n",
            "\tTrain: Average Accuracy: 90.19636576787808\tAverage Loss: 0.3921189951967507\n",
            "\tTest: Average Accuracy: 95.97953464673913\tAverage Loss: 0.14661961070297583\n",
            "Epoch 2:\n",
            "\tTrain: Average Accuracy: 96.1398495506057\tAverage Loss: 0.13914547399925825\n",
            "\tTest: Average Accuracy: 96.84379245923913\tAverage Loss: 0.11749605379278023\n",
            "Epoch 3:\n",
            "\tTrain: Average Accuracy: 97.00444509574052\tAverage Loss: 0.10995813373349489\n",
            "\tTest: Average Accuracy: 97.45902683423913\tAverage Loss: 0.09773412693782993\n",
            "Epoch 4:\n",
            "\tTrain: Average Accuracy: 97.56252442360297\tAverage Loss: 0.08952739984227544\n",
            "\tTest: Average Accuracy: 97.76176120923913\tAverage Loss: 0.0844251245290571\n",
            "Epoch 5:\n",
            "\tTrain: Average Accuracy: 97.92643610785463\tAverage Loss: 0.07569115315355837\n",
            "\tTest: Average Accuracy: 97.99125339673913\tAverage Loss: 0.07535506537964856\n",
            "Epoch 6:\n",
            "\tTrain: Average Accuracy: 98.18410511918718\tAverage Loss: 0.06578145992036968\n",
            "\tTest: Average Accuracy: 98.19144870923913\tAverage Loss: 0.06900892950561127\n",
            "Epoch 7:\n",
            "\tTrain: Average Accuracy: 98.41002344665885\tAverage Loss: 0.05839139342463239\n",
            "\tTest: Average Accuracy: 98.26469089673913\tAverage Loss: 0.06432758132767777\n",
            "Epoch 8:\n",
            "\tTrain: Average Accuracy: 98.56267096522079\tAverage Loss: 0.05263666139390531\n",
            "\tTest: Average Accuracy: 98.349609375\tAverage Loss: 0.060814060418796924\n",
            "Epoch 9:\n",
            "\tTrain: Average Accuracy: 98.68967370066431\tAverage Loss: 0.04794613839615447\n",
            "\tTest: Average Accuracy: 98.3642578125\tAverage Loss: 0.058194818186641795\n",
            "Epoch 10:\n",
            "\tTrain: Average Accuracy: 98.8056858147714\tAverage Loss: 0.04401609425515578\n",
            "\tTest: Average Accuracy: 98.369140625\tAverage Loss: 0.05603060261045077\n",
            "Epoch 11:\n",
            "\tTrain: Average Accuracy: 98.88994724501758\tAverage Loss: 0.040694558102582636\n",
            "\tTest: Average Accuracy: 98.3935546875\tAverage Loss: 0.054184825345900356\n",
            "Epoch 12:\n",
            "\tTrain: Average Accuracy: 98.9681027745213\tAverage Loss: 0.03778710614065399\n",
            "\tTest: Average Accuracy: 98.3984375\tAverage Loss: 0.05269548150398037\n",
            "Epoch 13:\n",
            "\tTrain: Average Accuracy: 99.03160414224307\tAverage Loss: 0.03522106781633772\n",
            "\tTest: Average Accuracy: 98.447265625\tAverage Loss: 0.05123293818201809\n",
            "Epoch 14:\n",
            "\tTrain: Average Accuracy: 99.11342321219226\tAverage Loss: 0.03289210409784665\n",
            "\tTest: Average Accuracy: 98.4716796875\tAverage Loss: 0.05018266416773833\n",
            "Epoch 15:\n",
            "\tTrain: Average Accuracy: 99.16959749902306\tAverage Loss: 0.030888187761969797\n",
            "\tTest: Average Accuracy: 98.49609375\tAverage Loss: 0.04913085408990622\n"
          ]
        }
      ],
      "source": [
        "log = train_model()"
      ]
    },
    {
      "cell_type": "markdown",
      "source": [
        "### Initial Weighting\n",
        "What if we initialized the networks weights as 0?\n",
        "Would it make any difference?\n",
        "Let's see:"
      ],
      "metadata": {
        "id": "d6o3KIuDGeCs"
      }
    },
    {
      "cell_type": "code",
      "source": [
        "log = train_model(activation=Relu(), initial='zero')"
      ],
      "metadata": {
        "colab": {
          "base_uri": "https://localhost:8080/"
        },
        "id": "rrU4pWkNe81b",
        "outputId": "236bca7a-9d64-4db8-a6cd-9671eb2b5867"
      },
      "execution_count": 100,
      "outputs": [
        {
          "output_type": "stream",
          "name": "stdout",
          "text": [
            "Epoch 1:\n",
            "\tTrain: Average Accuracy: 10.036342321219227\tAverage Loss: 2.3027118010651564\n",
            "\tTest: Average Accuracy: 9.98726222826087\tAverage Loss: 2.3026120915045603\n",
            "Epoch 2:\n",
            "\tTrain: Average Accuracy: 10.0705353653771\tAverage Loss: 2.3027088282002914\n",
            "\tTest: Average Accuracy: 9.98726222826087\tAverage Loss: 2.3026121673157958\n",
            "Epoch 3:\n",
            "\tTrain: Average Accuracy: 10.0705353653771\tAverage Loss: 2.302708831302017\n",
            "\tTest: Average Accuracy: 9.98726222826087\tAverage Loss: 2.302612167336058\n",
            "Epoch 4:\n",
            "\tTrain: Average Accuracy: 10.0705353653771\tAverage Loss: 2.30270883130276\n",
            "\tTest: Average Accuracy: 9.98726222826087\tAverage Loss: 2.3026121673360627\n",
            "Epoch 5:\n",
            "\tTrain: Average Accuracy: 10.0705353653771\tAverage Loss: 2.3027088313027604\n",
            "\tTest: Average Accuracy: 9.98726222826087\tAverage Loss: 2.302612167336063\n",
            "Epoch 6:\n",
            "\tTrain: Average Accuracy: 10.0705353653771\tAverage Loss: 2.3027088313027604\n",
            "\tTest: Average Accuracy: 9.98726222826087\tAverage Loss: 2.302612167336063\n",
            "Epoch 7:\n",
            "\tTrain: Average Accuracy: 10.0705353653771\tAverage Loss: 2.3027088313027604\n",
            "\tTest: Average Accuracy: 9.98726222826087\tAverage Loss: 2.302612167336063\n",
            "Epoch 8:\n",
            "\tTrain: Average Accuracy: 10.0705353653771\tAverage Loss: 2.3027088313027604\n",
            "\tTest: Average Accuracy: 9.98726222826087\tAverage Loss: 2.302612167336063\n",
            "Epoch 9:\n",
            "\tTrain: Average Accuracy: 10.0705353653771\tAverage Loss: 2.3027088313027604\n",
            "\tTest: Average Accuracy: 9.98726222826087\tAverage Loss: 2.302612167336063\n",
            "Epoch 10:\n",
            "\tTrain: Average Accuracy: 10.0705353653771\tAverage Loss: 2.3027088313027604\n",
            "\tTest: Average Accuracy: 9.98726222826087\tAverage Loss: 2.302612167336063\n",
            "Epoch 11:\n",
            "\tTrain: Average Accuracy: 10.0705353653771\tAverage Loss: 2.3027088313027604\n",
            "\tTest: Average Accuracy: 9.98726222826087\tAverage Loss: 2.302612167336063\n",
            "Epoch 12:\n",
            "\tTrain: Average Accuracy: 10.0705353653771\tAverage Loss: 2.3027088313027604\n",
            "\tTest: Average Accuracy: 9.98726222826087\tAverage Loss: 2.302612167336063\n",
            "Epoch 13:\n",
            "\tTrain: Average Accuracy: 10.0705353653771\tAverage Loss: 2.3027088313027604\n",
            "\tTest: Average Accuracy: 9.98726222826087\tAverage Loss: 2.302612167336063\n",
            "Epoch 14:\n",
            "\tTrain: Average Accuracy: 10.0705353653771\tAverage Loss: 2.3027088313027604\n",
            "\tTest: Average Accuracy: 9.98726222826087\tAverage Loss: 2.302612167336063\n",
            "Epoch 15:\n",
            "\tTrain: Average Accuracy: 10.0705353653771\tAverage Loss: 2.3027088313027604\n",
            "\tTest: Average Accuracy: 9.98726222826087\tAverage Loss: 2.302612167336063\n"
          ]
        }
      ]
    },
    {
      "cell_type": "markdown",
      "source": [
        "When all the weights are set to zero, the derivatives will remain the same. As a result, neurons will learn the same features in each epoch. This problem is known as network failing to break symmetry.\n",
        "\n",
        "As you can see above, the accuracy almost never changes. This is because in each iteration of gradient descent, we will find the gradient for the previous layer by multiplying the existing weight with a gradient obtained by backpropagation from the next layer. If the initial weight is zero, multiplying it by any gradient will set the gradient to be zero. Due to zero gradient, the gradient descent process won’t change the weight which means each iteration has no effect on the weights we are trying to optimize.\n",
        "\n",
        "Every neuron in the same layer has the same behavior, and will end up having the same weight. This is called the symmetric problem.\n",
        "The same problem happens if the weights are initialized with a constant value for example all the weights are one and the biases are zero."
      ],
      "metadata": {
        "id": "6SsSdbYhHcSo"
      }
    },
    {
      "cell_type": "markdown",
      "source": [
        "### Learning Rate\n",
        "Learning rate affects the learning process of a neural network and eventually the accuracy of the model. In general three different cases may happen.\n",
        "\n",
        "- Correct learning rate\n",
        "- Too big learning rate\n",
        "- Too small learning rate\n",
        "\n",
        "In second case, our model may diverge and never find the optimal weight and biases. In the too small learning rate, the time it takes for the model to find the optimal results increases.\n",
        "\n"
      ],
      "metadata": {
        "id": "obyLPQ0GH1ys"
      }
    },
    {
      "cell_type": "markdown",
      "source": [
        "#### Best rate"
      ],
      "metadata": {
        "id": "P2JwNlryKlSq"
      }
    },
    {
      "cell_type": "code",
      "source": [
        "max_accuracies = {}\n",
        "\n",
        "lrs = [0.0005 + 0.0005*i for i in range(5)]\n",
        "\n",
        "for lr in lrs:\n",
        "  log = train_model(activation=Relu(), initial='uniform', print_results=False, lr=lr)\n",
        "  max_accuracies[lr] = {}\n",
        "  max_accuracies[lr]['train_accuracy'] = log['train_accuracy'][-1]\n",
        "  max_accuracies[lr]['test_accuracy'] = log['test_accuracy'][-1]"
      ],
      "metadata": {
        "id": "Z98sHmb-IDYX"
      },
      "execution_count": 101,
      "outputs": []
    },
    {
      "cell_type": "code",
      "source": [
        "max_accuracies"
      ],
      "metadata": {
        "colab": {
          "base_uri": "https://localhost:8080/"
        },
        "id": "gn0tFwxiRw92",
        "outputId": "2930c5e4-c58c-45e3-e59e-5a932ecf9113"
      },
      "execution_count": 102,
      "outputs": [
        {
          "output_type": "execute_result",
          "data": {
            "text/plain": [
              "{0.0005: {'test_accuracy': 97.93754245923913,\n",
              "  'train_accuracy': 98.28424189136382},\n",
              " 0.001: {'test_accuracy': 98.5400390625, 'train_accuracy': 99.14883743649864},\n",
              " 0.0015: {'test_accuracy': 98.6572265625, 'train_accuracy': 99.41261234857366},\n",
              " 0.002: {'test_accuracy': 98.60648777173913,\n",
              "  'train_accuracy': 99.4284876905041},\n",
              " 0.0025: {'test_accuracy': 98.447265625, 'train_accuracy': 99.51519148104728}}"
            ]
          },
          "metadata": {},
          "execution_count": 102
        }
      ]
    },
    {
      "cell_type": "markdown",
      "source": [
        "The best accuracy seems to be 0.0015:"
      ],
      "metadata": {
        "id": "F3YMh6cwUJr_"
      }
    },
    {
      "cell_type": "code",
      "source": [
        "LEARNING_RATE = 0.0015"
      ],
      "metadata": {
        "id": "B3vZoRRxUkVB"
      },
      "execution_count": 103,
      "outputs": []
    },
    {
      "cell_type": "markdown",
      "source": [
        "#### Small Rate\n"
      ],
      "metadata": {
        "id": "meO9cKvYKpmN"
      }
    },
    {
      "cell_type": "code",
      "source": [
        "import time\n",
        "t0 = time.time()\n",
        "log = train_model(activation=Relu(), initial='uniform', print_results=True, lr=LEARNING_RATE * 0.1)\n",
        "t1 = time.time()\n",
        "print('Time = {}s'.format(t1 - t0))"
      ],
      "metadata": {
        "colab": {
          "base_uri": "https://localhost:8080/"
        },
        "id": "V02qftGfK38G",
        "outputId": "87065081-9ce8-41e8-fc01-1d7181aa7849"
      },
      "execution_count": 104,
      "outputs": [
        {
          "output_type": "stream",
          "name": "stdout",
          "text": [
            "Epoch 1:\n",
            "\tTrain: Average Accuracy: 68.41471277842908\tAverage Loss: 0.9764623532463499\n",
            "\tTest: Average Accuracy: 90.76193104619566\tAverage Loss: 0.3267338043147354\n",
            "Epoch 2:\n",
            "\tTrain: Average Accuracy: 92.27115084017194\tAverage Loss: 0.26978816213334655\n",
            "\tTest: Average Accuracy: 94.08118206521739\tAverage Loss: 0.21846266752184557\n",
            "Epoch 3:\n",
            "\tTrain: Average Accuracy: 93.9417252833138\tAverage Loss: 0.21036962902968145\n",
            "\tTest: Average Accuracy: 94.90149456521739\tAverage Loss: 0.1868604932169852\n",
            "Epoch 4:\n",
            "\tTrain: Average Accuracy: 94.58284486127394\tAverage Loss: 0.1870424828922487\n",
            "\tTest: Average Accuracy: 95.31058933423913\tAverage Loss: 0.1706472351973587\n",
            "Epoch 5:\n",
            "\tTrain: Average Accuracy: 95.01880617428684\tAverage Loss: 0.17363544294290406\n",
            "\tTest: Average Accuracy: 95.58402683423913\tAverage Loss: 0.16067499592463613\n",
            "Epoch 6:\n",
            "\tTrain: Average Accuracy: 95.29601406799532\tAverage Loss: 0.16462625024575828\n",
            "\tTest: Average Accuracy: 95.76469089673913\tAverage Loss: 0.1539012020257148\n",
            "Epoch 7:\n",
            "\tTrain: Average Accuracy: 95.53780773739742\tAverage Loss: 0.15799413365074066\n",
            "\tTest: Average Accuracy: 95.89652683423913\tAverage Loss: 0.1489468625963725\n",
            "Epoch 8:\n",
            "\tTrain: Average Accuracy: 95.7038882375928\tAverage Loss: 0.15280099628322874\n",
            "\tTest: Average Accuracy: 95.97465183423913\tAverage Loss: 0.14511121298531604\n",
            "Epoch 9:\n",
            "\tTrain: Average Accuracy: 95.84920867526378\tAverage Loss: 0.14855712676038008\n",
            "\tTest: Average Accuracy: 96.10160495923913\tAverage Loss: 0.14202710753134906\n",
            "Epoch 10:\n",
            "\tTrain: Average Accuracy: 95.926143024619\tAverage Loss: 0.1449834736929914\n",
            "\tTest: Average Accuracy: 96.15043308423913\tAverage Loss: 0.1394698825506055\n",
            "Epoch 11:\n",
            "\tTrain: Average Accuracy: 96.03727041813208\tAverage Loss: 0.14190772940983298\n",
            "\tTest: Average Accuracy: 96.21879245923913\tAverage Loss: 0.13728716386064774\n",
            "Epoch 12:\n",
            "\tTrain: Average Accuracy: 96.13252246971473\tAverage Loss: 0.13920601751419776\n",
            "\tTest: Average Accuracy: 96.26762058423913\tAverage Loss: 0.1353969224553637\n",
            "Epoch 13:\n",
            "\tTrain: Average Accuracy: 96.20579327862447\tAverage Loss: 0.1368046863569388\n",
            "\tTest: Average Accuracy: 96.30668308423913\tAverage Loss: 0.13373635266392395\n",
            "Epoch 14:\n",
            "\tTrain: Average Accuracy: 96.27051582649473\tAverage Loss: 0.13464246058622942\n",
            "\tTest: Average Accuracy: 96.36039402173913\tAverage Loss: 0.13226669172087352\n",
            "Epoch 15:\n",
            "\tTrain: Average Accuracy: 96.32913247362251\tAverage Loss: 0.13268306745014635\n",
            "\tTest: Average Accuracy: 96.41898777173913\tAverage Loss: 0.13095090451032174\n",
            "Time = 359.01947689056396s\n"
          ]
        }
      ]
    },
    {
      "cell_type": "markdown",
      "source": [
        "At this rate the accuracy increases but the speed is extremly low thus the model needs more epochs to reach the same accuracy as the optimal learning rate."
      ],
      "metadata": {
        "id": "x9lXtCeHXtGB"
      }
    },
    {
      "cell_type": "markdown",
      "source": [
        "#### Big Rate"
      ],
      "metadata": {
        "id": "IC0Z6LIULHEJ"
      }
    },
    {
      "cell_type": "code",
      "source": [
        "t0 = time.time()\n",
        "log = train_model(activation=Relu(), initial='uniform', print_results=True, lr=LEARNING_RATE * 10)\n",
        "t1 = time.time()\n",
        "print('Time = {}s'.format(t1 - t0))"
      ],
      "metadata": {
        "colab": {
          "base_uri": "https://localhost:8080/"
        },
        "id": "pxulBxVTLQqj",
        "outputId": "a7494b65-f586-4d16-ce5b-4ff5236e4ca2"
      },
      "execution_count": 105,
      "outputs": [
        {
          "output_type": "stream",
          "name": "stdout",
          "text": [
            "Epoch 1:\n",
            "\tTrain: Average Accuracy: 10.120945681906996\tAverage Loss: 2.331414180968476\n",
            "\tTest: Average Accuracy: 9.84566066576087\tAverage Loss: 2.306499681506468\n",
            "Epoch 2:\n",
            "\tTrain: Average Accuracy: 10.131936303243455\tAverage Loss: 2.306144628766946\n",
            "\tTest: Average Accuracy: 9.85054347826087\tAverage Loss: 2.306498360027534\n",
            "Epoch 3:\n",
            "\tTrain: Average Accuracy: 14.159876905041031\tAverage Loss: 2.196187483072227\n",
            "\tTest: Average Accuracy: 25.46556555706522\tAverage Loss: 1.9041259694644599\n",
            "Epoch 4:\n",
            "\tTrain: Average Accuracy: 19.709994138335286\tAverage Loss: 2.041700836373711\n",
            "\tTest: Average Accuracy: 19.04190726902174\tAverage Loss: 2.0239363294796284\n",
            "Epoch 5:\n",
            "\tTrain: Average Accuracy: 20.105656506447833\tAverage Loss: 2.0181559401989597\n",
            "\tTest: Average Accuracy: 19.73038383152174\tAverage Loss: 2.010495570989556\n",
            "Epoch 6:\n",
            "\tTrain: Average Accuracy: 20.191139116842518\tAverage Loss: 2.020078580683403\n",
            "\tTest: Average Accuracy: 20.29190726902174\tAverage Loss: 1.9946359557048363\n",
            "Epoch 7:\n",
            "\tTrain: Average Accuracy: 19.865084017194217\tAverage Loss: 2.025331788351169\n",
            "\tTest: Average Accuracy: 18.96378226902174\tAverage Loss: 2.0297853041084983\n",
            "Epoch 8:\n",
            "\tTrain: Average Accuracy: 19.974990230558813\tAverage Loss: 2.0267309569770173\n",
            "\tTest: Average Accuracy: 18.69522758152174\tAverage Loss: 2.0399896764580405\n",
            "Epoch 9:\n",
            "\tTrain: Average Accuracy: 19.802803829620945\tAverage Loss: 2.01997304186619\n",
            "\tTest: Average Accuracy: 19.06632133152174\tAverage Loss: 2.025734050768072\n",
            "Epoch 10:\n",
            "\tTrain: Average Accuracy: 19.89439234075811\tAverage Loss: 2.0165983255847064\n",
            "\tTest: Average Accuracy: 19.13468070652174\tAverage Loss: 2.0222351564154564\n",
            "Epoch 11:\n",
            "\tTrain: Average Accuracy: 19.72831184056272\tAverage Loss: 2.0237203875868\n",
            "\tTest: Average Accuracy: 19.15909476902174\tAverage Loss: 2.023965546987668\n",
            "Epoch 12:\n",
            "\tTrain: Average Accuracy: 20.346228995701445\tAverage Loss: 2.0065281732428297\n",
            "\tTest: Average Accuracy: 19.32511039402174\tAverage Loss: 2.0130669787751656\n",
            "Epoch 13:\n",
            "\tTrain: Average Accuracy: 22.409486127393514\tAverage Loss: 1.9612580583130554\n",
            "\tTest: Average Accuracy: 21.42747961956522\tAverage Loss: 2.0171994026501165\n",
            "Epoch 14:\n",
            "\tTrain: Average Accuracy: 29.941187964048456\tAverage Loss: 1.778259285527527\n",
            "\tTest: Average Accuracy: 33.09740149456522\tAverage Loss: 1.6952680383306469\n",
            "Epoch 15:\n",
            "\tTrain: Average Accuracy: 31.53028526768269\tAverage Loss: 1.7517103054066132\n",
            "\tTest: Average Accuracy: 32.91970957880435\tAverage Loss: 1.667142693696166\n",
            "Time = 350.45753145217896s\n"
          ]
        }
      ]
    },
    {
      "cell_type": "markdown",
      "source": [
        "The networks accuracy doesn't change.\n",
        "This learning rate causes a problem called gradient vanishing."
      ],
      "metadata": {
        "id": "ac3Ft9rpXpUl"
      }
    },
    {
      "cell_type": "markdown",
      "source": [
        "### Activation Function\n",
        "In this part, different activation functions are tested on the network:"
      ],
      "metadata": {
        "id": "PrVC5PkcLfHc"
      }
    },
    {
      "cell_type": "code",
      "source": [
        "max_accuracies = {}\n",
        "\n",
        "activation_functions = {\n",
        "    'Sigmoid': Sigmoid(),\n",
        "    'Hyperbolic Tangent': Tanh(),\n",
        "    'Leaky Relu': LeakyRelu()\n",
        "}\n",
        "\n",
        "for activation in activation_functions:\n",
        "  t0 = time.time()\n",
        "  log = train_model(activation=activation_functions[activation], initial='uniform', print_results=False, lr=LEARNING_RATE)\n",
        "  t1 = time.time()\n",
        "  print('Time = {}s for {}'.format(t1 - t0, activation))\n",
        "  max_accuracies[activation] = {}\n",
        "  max_accuracies[activation]['train_accuracy'] = log['train_accuracy'][-1]\n",
        "  max_accuracies[activation]['test_accuracy'] = log['test_accuracy'][-1]  "
      ],
      "metadata": {
        "colab": {
          "base_uri": "https://localhost:8080/"
        },
        "id": "n4hP2FQbLhnm",
        "outputId": "016f1ad9-242f-4775-877b-d175e74e6537"
      },
      "execution_count": 106,
      "outputs": [
        {
          "output_type": "stream",
          "name": "stdout",
          "text": [
            "Time = 346.8487813472748s for Sigmoid\n",
            "Time = 344.6701235771179s for Hyperbolic Tangent\n",
            "Time = 330.7944633960724s for Leaky Relu\n"
          ]
        }
      ]
    },
    {
      "cell_type": "code",
      "source": [
        "max_accuracies"
      ],
      "metadata": {
        "colab": {
          "base_uri": "https://localhost:8080/"
        },
        "id": "2g5vxK3Pb-7f",
        "outputId": "e602025d-80a4-4651-c334-fab6139e98b6"
      },
      "execution_count": 107,
      "outputs": [
        {
          "output_type": "execute_result",
          "data": {
            "text/plain": [
              "{'Hyperbolic Tangent': {'test_accuracy': 90.00891644021739,\n",
              "  'train_accuracy': 90.02173700664322},\n",
              " 'Leaky Relu': {'test_accuracy': 98.544921875,\n",
              "  'train_accuracy': 99.38086166471278},\n",
              " 'Sigmoid': {'test_accuracy': 97.28812839673913,\n",
              "  'train_accuracy': 97.26455646737007}}"
            ]
          },
          "metadata": {},
          "execution_count": 107
        }
      ]
    },
    {
      "cell_type": "markdown",
      "source": [
        "Leaky Relu has the best performance and we'll use it for the rest of the assignment:"
      ],
      "metadata": {
        "id": "tD7sGGPhfjMc"
      }
    },
    {
      "cell_type": "code",
      "source": [
        "ACTIVATION = LeakyRelu()"
      ],
      "metadata": {
        "id": "fMtPBCSycJOp"
      },
      "execution_count": 108,
      "outputs": []
    },
    {
      "cell_type": "markdown",
      "source": [
        "The sigmoid function normalizes the values(all of them are between 0 and 1). But when x(exp power) is a large positive or negative value, it'll decrease to 0.\n",
        "Also, it's more computationally expensive than other functions.\n",
        "\n",
        "Hyperbolic Tangent function normalizes the values in between -1 and 1 thus it's a zero centered function.\n",
        "This property is important in deep learning because it has been empirically shown that models operating on normalized data have faster convergence. Unfortunately, zero-centered activation functions saturate at their asymptotes, leading to a weak training signal. ReLU avoids this problem but it is not zero-centered.\n",
        "\n",
        "The problem with Sigmoid and Tanhs' performance is that they saturate.\n",
        "A neuron is said to be saturated when extremely large weights cause the neuron to produce values (gradients) that are very close to the range boundary.\n",
        "If the gradient is constantly 0, no learning will take place in the neural network. Likewise, if the gradient is constantly 1, it most likely means that the neuron is over-fitting on training data and will likely perform poorly on test data.\n",
        "In these functions, over-fitting is happenning and the accuracy is relatively constant.\n",
        "\n",
        "Leaky Relu is faster both in convergence and its computation. This function doesn't saturate and the gradients don't get killed. But the problem is that it's not consistent.\n",
        "Leaky Relu has a slope for negative values while Relu deletes these values."
      ],
      "metadata": {
        "id": "ERJdI7e5YIUw"
      }
    },
    {
      "cell_type": "markdown",
      "source": [
        "### Batch Size\n",
        "The batch size defines the number of samples that will be propagated through the network.\n",
        "Batch size is one of the most important hyperparameters to tune in modern deep learning systems.\n",
        "This is because using the entire dataset guarantees convergence to the global optima of the objective function. However, this is at the cost of slower, empirical convergence to that optima.\n",
        "\n",
        "Now, let's try different batch sizes:"
      ],
      "metadata": {
        "id": "x9oPyWAUM8UJ"
      }
    },
    {
      "cell_type": "code",
      "source": [
        "max_accuracies = {}\n",
        "\n",
        "sizes = [16, 256]\n",
        "\n",
        "for size in sizes:\n",
        "  log = train_model(activation=ACTIVATION, initial='uniform', print_results=False,\n",
        "                    lr=LEARNING_RATE, epochs=EPOCHS, batch_size=size)\n",
        "  max_accuracies[size] = {}\n",
        "  max_accuracies[size]['train_accuracy'] = log['train_accuracy'][-1]\n",
        "  max_accuracies[size]['test_accuracy'] = log['test_accuracy'][-1]"
      ],
      "metadata": {
        "id": "qOA9VS7fM_bv"
      },
      "execution_count": 110,
      "outputs": []
    },
    {
      "cell_type": "code",
      "source": [
        "max_accuracies"
      ],
      "metadata": {
        "colab": {
          "base_uri": "https://localhost:8080/"
        },
        "id": "pz2J7HaTfZqI",
        "outputId": "31fbea84-24b6-4188-adf8-ce01ec839f98"
      },
      "execution_count": 111,
      "outputs": [
        {
          "output_type": "execute_result",
          "data": {
            "text/plain": [
              "{16: {'test_accuracy': 98.6083984375, 'train_accuracy': 99.46023837436499},\n",
              " 256: {'test_accuracy': 95.35288698760121, 'train_accuracy': 95.2763458111319}}"
            ]
          },
          "metadata": {},
          "execution_count": 111
        }
      ]
    },
    {
      "cell_type": "markdown",
      "source": [
        "The larger batch size has poor performance. This is because with the larger batch size our model has poor generalization and over-fits and doesn't converge.\n",
        "It has been observed in practice that when using a larger batch there is a significant degradation in the quality of the model, as measured by its ability to generalize. "
      ],
      "metadata": {
        "id": "fke_IEJbZaix"
      }
    },
    {
      "cell_type": "markdown",
      "source": [
        "#### Advantages of very small batch size\n",
        "It takes less memory.\n",
        "Also, it is more generalized and has better accuracy overall. Using smaller batch sizes have been empirically shown to have faster convergence to “good” solutions.\n",
        "This is intuitively explained by the fact that smaller batch sizes allow the model to “start learning before having to see all the data.”\n",
        "\n"
      ],
      "metadata": {
        "id": "GmOhrJqHY45B"
      }
    },
    {
      "cell_type": "markdown",
      "source": [
        "#### Disadvantages of very small batch size\n",
        "The model is not guaranteed to converge to the global optima. It will bounce around the global optima, staying outside some ϵ-ball of the optima where ϵ depends on the ratio of the batch size to the dataset size. Therefore, under no computational constraints, it is often advised that one starts at a small batch size, reaping the benefits of faster training dynamics, and steadily grows the batch size through training, also reaping the benefits of guaranteed convergence."
      ],
      "metadata": {
        "id": "lV6MN8PAZANx"
      }
    },
    {
      "cell_type": "markdown",
      "source": [
        "## Conclusion\n",
        "Artificial neural networks have been pretty successful in predicting various mechanical properties of fibre reinforced composites. Most studies have stressed that the number of training datasets plays a key role in ANN predictive quality. For more complex nonlinear relations between input and output, larger training datasets were found to be more successful."
      ],
      "metadata": {
        "id": "1c1mHtOiNyrR"
      }
    }
  ],
  "metadata": {
    "kernelspec": {
      "display_name": "Python 3 (ipykernel)",
      "language": "python",
      "name": "python3"
    },
    "language_info": {
      "codemirror_mode": {
        "name": "ipython",
        "version": 3
      },
      "file_extension": ".py",
      "mimetype": "text/x-python",
      "name": "python",
      "nbconvert_exporter": "python",
      "pygments_lexer": "ipython3",
      "version": "3.7.3"
    },
    "colab": {
      "name": "AI-CA5-P1.ipynb",
      "provenance": [],
      "toc_visible": true,
      "collapsed_sections": []
    }
  },
  "nbformat": 4,
  "nbformat_minor": 0
}