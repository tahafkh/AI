{
 "cells": [
  {
   "cell_type": "markdown",
   "id": "428d0682-2fae-4de8-9196-7e5f02deb581",
   "metadata": {},
   "source": [
    "# AI - CA3 - Naive Bayes - Mohamad Taha Fakharian"
   ]
  },
  {
   "cell_type": "markdown",
   "id": "8647b8f2-e6c8-457a-bddf-fd0763d9edf8",
   "metadata": {},
   "source": [
    "## Goal\n",
    "In this assignment, we're going to \n",
    "\n",
    "## Overall approach\n"
   ]
  },
  {
   "cell_type": "markdown",
   "id": "2658d346-188d-4cae-a8d8-5b36e52d64c3",
   "metadata": {},
   "source": [
    "# Conclusion\n"
   ]
  }
 ],
 "metadata": {
  "kernelspec": {
   "display_name": "Python 3 (ipykernel)",
   "language": "python",
   "name": "python3"
  },
  "language_info": {
   "codemirror_mode": {
    "name": "ipython",
    "version": 3
   },
   "file_extension": ".py",
   "mimetype": "text/x-python",
   "name": "python",
   "nbconvert_exporter": "python",
   "pygments_lexer": "ipython3",
   "version": "3.7.3"
  }
 },
 "nbformat": 4,
 "nbformat_minor": 5
}
